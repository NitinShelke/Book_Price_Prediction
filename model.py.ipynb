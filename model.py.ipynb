{
 "cells": [
  {
   "cell_type": "markdown",
   "id": "15d10c01",
   "metadata": {},
   "source": [
    "# Import the required libraries"
   ]
  },
  {
   "cell_type": "code",
   "execution_count": 1,
   "id": "b47c1297",
   "metadata": {},
   "outputs": [],
   "source": [
    "import pandas as pd\n",
    "import numpy as np\n",
    "from matplotlib import pyplot as plt\n",
    "import seaborn as sns\n",
    "\n",
    "import warnings\n",
    "warnings.filterwarnings(\"ignore\")\n",
    "\n",
    "%matplotlib inline\n",
    "\n",
    "sns.set_style(\"darkgrid\")"
   ]
  },
  {
   "cell_type": "markdown",
   "id": "6bc8fb46",
   "metadata": {},
   "source": [
    "# Load the dataset"
   ]
  },
  {
   "cell_type": "code",
   "execution_count": 2,
   "id": "d16c304f",
   "metadata": {},
   "outputs": [],
   "source": [
    "train=pd.read_excel(\"Data_Train.xlsx\",header=0)\n",
    "test=pd.read_excel(\"Data_Test.xlsx\",header=0)"
   ]
  },
  {
   "cell_type": "markdown",
   "id": "8967b574",
   "metadata": {},
   "source": [
    "# EDA"
   ]
  },
  {
   "cell_type": "code",
   "execution_count": 3,
   "id": "2c0585ae",
   "metadata": {},
   "outputs": [
    {
     "name": "stdout",
     "output_type": "stream",
     "text": [
      "<class 'pandas.core.frame.DataFrame'>\n",
      "RangeIndex: 6237 entries, 0 to 6236\n",
      "Data columns (total 9 columns):\n",
      " #   Column        Non-Null Count  Dtype  \n",
      "---  ------        --------------  -----  \n",
      " 0   Title         6237 non-null   object \n",
      " 1   Author        6237 non-null   object \n",
      " 2   Edition       6237 non-null   object \n",
      " 3   Reviews       6237 non-null   object \n",
      " 4   Ratings       6237 non-null   object \n",
      " 5   Synopsis      6237 non-null   object \n",
      " 6   Genre         6237 non-null   object \n",
      " 7   BookCategory  6237 non-null   object \n",
      " 8   Price         6237 non-null   float64\n",
      "dtypes: float64(1), object(8)\n",
      "memory usage: 438.7+ KB\n"
     ]
    }
   ],
   "source": [
    "train.info()"
   ]
  },
  {
   "cell_type": "code",
   "execution_count": 4,
   "id": "e08b089c",
   "metadata": {},
   "outputs": [
    {
     "name": "stdout",
     "output_type": "stream",
     "text": [
      "<class 'pandas.core.frame.DataFrame'>\n",
      "RangeIndex: 1560 entries, 0 to 1559\n",
      "Data columns (total 8 columns):\n",
      " #   Column        Non-Null Count  Dtype \n",
      "---  ------        --------------  ----- \n",
      " 0   Title         1560 non-null   object\n",
      " 1   Author        1560 non-null   object\n",
      " 2   Edition       1560 non-null   object\n",
      " 3   Reviews       1560 non-null   object\n",
      " 4   Ratings       1560 non-null   object\n",
      " 5   Synopsis      1560 non-null   object\n",
      " 6   Genre         1560 non-null   object\n",
      " 7   BookCategory  1560 non-null   object\n",
      "dtypes: object(8)\n",
      "memory usage: 97.6+ KB\n"
     ]
    }
   ],
   "source": [
    "test.info()"
   ]
  },
  {
   "cell_type": "raw",
   "id": "e0c1d802",
   "metadata": {},
   "source": [
    "observations:\n",
    "    1. records: 6237\n",
    "    2. columns: 9\n",
    "        8-categorical\n",
    "        1-numeric\n",
    "    3. no null values"
   ]
  },
  {
   "cell_type": "code",
   "execution_count": 5,
   "id": "19f275f0",
   "metadata": {},
   "outputs": [
    {
     "data": {
      "text/plain": [
       "Title           0\n",
       "Author          0\n",
       "Edition         0\n",
       "Reviews         0\n",
       "Ratings         0\n",
       "Synopsis        0\n",
       "Genre           0\n",
       "BookCategory    0\n",
       "Price           0\n",
       "dtype: int64"
      ]
     },
     "execution_count": 5,
     "metadata": {},
     "output_type": "execute_result"
    }
   ],
   "source": [
    "train.isna().sum()"
   ]
  },
  {
   "cell_type": "code",
   "execution_count": 6,
   "id": "b2113456",
   "metadata": {},
   "outputs": [
    {
     "data": {
      "text/plain": [
       "Title           0\n",
       "Author          0\n",
       "Edition         0\n",
       "Reviews         0\n",
       "Ratings         0\n",
       "Synopsis        0\n",
       "Genre           0\n",
       "BookCategory    0\n",
       "dtype: int64"
      ]
     },
     "execution_count": 6,
     "metadata": {},
     "output_type": "execute_result"
    }
   ],
   "source": [
    "test.isna().sum()"
   ]
  },
  {
   "cell_type": "code",
   "execution_count": 7,
   "id": "65f0a50c",
   "metadata": {},
   "outputs": [
    {
     "data": {
      "text/plain": [
       "8"
      ]
     },
     "execution_count": 7,
     "metadata": {},
     "output_type": "execute_result"
    }
   ],
   "source": [
    "test.duplicated().sum()"
   ]
  },
  {
   "cell_type": "code",
   "execution_count": 8,
   "id": "ee556b23",
   "metadata": {},
   "outputs": [
    {
     "data": {
      "text/plain": [
       "0"
      ]
     },
     "execution_count": 8,
     "metadata": {},
     "output_type": "execute_result"
    }
   ],
   "source": [
    "train.duplicated().sum()"
   ]
  },
  {
   "cell_type": "code",
   "execution_count": 9,
   "id": "6bca96a7",
   "metadata": {},
   "outputs": [
    {
     "data": {
      "text/html": [
       "<div>\n",
       "<style scoped>\n",
       "    .dataframe tbody tr th:only-of-type {\n",
       "        vertical-align: middle;\n",
       "    }\n",
       "\n",
       "    .dataframe tbody tr th {\n",
       "        vertical-align: top;\n",
       "    }\n",
       "\n",
       "    .dataframe thead th {\n",
       "        text-align: right;\n",
       "    }\n",
       "</style>\n",
       "<table border=\"1\" class=\"dataframe\">\n",
       "  <thead>\n",
       "    <tr style=\"text-align: right;\">\n",
       "      <th></th>\n",
       "      <th>Title</th>\n",
       "      <th>Author</th>\n",
       "      <th>Edition</th>\n",
       "      <th>Reviews</th>\n",
       "      <th>Ratings</th>\n",
       "      <th>Synopsis</th>\n",
       "      <th>Genre</th>\n",
       "      <th>BookCategory</th>\n",
       "      <th>Price</th>\n",
       "    </tr>\n",
       "  </thead>\n",
       "  <tbody>\n",
       "    <tr>\n",
       "      <th>0</th>\n",
       "      <td>The Prisoner's Gold (The Hunters 3)</td>\n",
       "      <td>Chris Kuzneski</td>\n",
       "      <td>Paperback,– 10 Mar 2016</td>\n",
       "      <td>4.0 out of 5 stars</td>\n",
       "      <td>8 customer reviews</td>\n",
       "      <td>THE HUNTERS return in their third brilliant no...</td>\n",
       "      <td>Action &amp; Adventure (Books)</td>\n",
       "      <td>Action &amp; Adventure</td>\n",
       "      <td>220.00</td>\n",
       "    </tr>\n",
       "    <tr>\n",
       "      <th>1</th>\n",
       "      <td>Guru Dutt: A Tragedy in Three Acts</td>\n",
       "      <td>Arun Khopkar</td>\n",
       "      <td>Paperback,– 7 Nov 2012</td>\n",
       "      <td>3.9 out of 5 stars</td>\n",
       "      <td>14 customer reviews</td>\n",
       "      <td>A layered portrait of a troubled genius for wh...</td>\n",
       "      <td>Cinema &amp; Broadcast (Books)</td>\n",
       "      <td>Biographies, Diaries &amp; True Accounts</td>\n",
       "      <td>202.93</td>\n",
       "    </tr>\n",
       "    <tr>\n",
       "      <th>2</th>\n",
       "      <td>Leviathan (Penguin Classics)</td>\n",
       "      <td>Thomas Hobbes</td>\n",
       "      <td>Paperback,– 25 Feb 1982</td>\n",
       "      <td>4.8 out of 5 stars</td>\n",
       "      <td>6 customer reviews</td>\n",
       "      <td>\"During the time men live without a common Pow...</td>\n",
       "      <td>International Relations</td>\n",
       "      <td>Humour</td>\n",
       "      <td>299.00</td>\n",
       "    </tr>\n",
       "    <tr>\n",
       "      <th>3</th>\n",
       "      <td>A Pocket Full of Rye (Miss Marple)</td>\n",
       "      <td>Agatha Christie</td>\n",
       "      <td>Paperback,– 5 Oct 2017</td>\n",
       "      <td>4.1 out of 5 stars</td>\n",
       "      <td>13 customer reviews</td>\n",
       "      <td>A handful of grain is found in the pocket of a...</td>\n",
       "      <td>Contemporary Fiction (Books)</td>\n",
       "      <td>Crime, Thriller &amp; Mystery</td>\n",
       "      <td>180.00</td>\n",
       "    </tr>\n",
       "    <tr>\n",
       "      <th>4</th>\n",
       "      <td>LIFE 70 Years of Extraordinary Photography</td>\n",
       "      <td>Editors of Life</td>\n",
       "      <td>Hardcover,– 10 Oct 2006</td>\n",
       "      <td>5.0 out of 5 stars</td>\n",
       "      <td>1 customer review</td>\n",
       "      <td>For seven decades, \"Life\" has been thrilling t...</td>\n",
       "      <td>Photography Textbooks</td>\n",
       "      <td>Arts, Film &amp; Photography</td>\n",
       "      <td>965.62</td>\n",
       "    </tr>\n",
       "  </tbody>\n",
       "</table>\n",
       "</div>"
      ],
      "text/plain": [
       "                                        Title           Author  \\\n",
       "0         The Prisoner's Gold (The Hunters 3)   Chris Kuzneski   \n",
       "1          Guru Dutt: A Tragedy in Three Acts     Arun Khopkar   \n",
       "2                Leviathan (Penguin Classics)    Thomas Hobbes   \n",
       "3          A Pocket Full of Rye (Miss Marple)  Agatha Christie   \n",
       "4  LIFE 70 Years of Extraordinary Photography  Editors of Life   \n",
       "\n",
       "                   Edition             Reviews              Ratings  \\\n",
       "0  Paperback,– 10 Mar 2016  4.0 out of 5 stars   8 customer reviews   \n",
       "1   Paperback,– 7 Nov 2012  3.9 out of 5 stars  14 customer reviews   \n",
       "2  Paperback,– 25 Feb 1982  4.8 out of 5 stars   6 customer reviews   \n",
       "3   Paperback,– 5 Oct 2017  4.1 out of 5 stars  13 customer reviews   \n",
       "4  Hardcover,– 10 Oct 2006  5.0 out of 5 stars    1 customer review   \n",
       "\n",
       "                                            Synopsis  \\\n",
       "0  THE HUNTERS return in their third brilliant no...   \n",
       "1  A layered portrait of a troubled genius for wh...   \n",
       "2  \"During the time men live without a common Pow...   \n",
       "3  A handful of grain is found in the pocket of a...   \n",
       "4  For seven decades, \"Life\" has been thrilling t...   \n",
       "\n",
       "                          Genre                          BookCategory   Price  \n",
       "0    Action & Adventure (Books)                    Action & Adventure  220.00  \n",
       "1    Cinema & Broadcast (Books)  Biographies, Diaries & True Accounts  202.93  \n",
       "2       International Relations                                Humour  299.00  \n",
       "3  Contemporary Fiction (Books)             Crime, Thriller & Mystery  180.00  \n",
       "4         Photography Textbooks              Arts, Film & Photography  965.62  "
      ]
     },
     "execution_count": 9,
     "metadata": {},
     "output_type": "execute_result"
    }
   ],
   "source": [
    "train.head()"
   ]
  },
  {
   "cell_type": "code",
   "execution_count": 10,
   "id": "8dcfb9b6",
   "metadata": {},
   "outputs": [],
   "source": [
    "data=pd.concat([train,test],axis=0)\n",
    "data=data.drop_duplicates(keep='first').reset_index(drop=True)"
   ]
  },
  {
   "cell_type": "code",
   "execution_count": 11,
   "id": "b7bab4ca",
   "metadata": {},
   "outputs": [],
   "source": [
    "def process_rev_rat(df):\n",
    "    \n",
    "    df['Reviews']=df['Reviews'].apply(lambda x:x.split(' ')[0])\n",
    "    df['Ratings']=df['Ratings'].apply(lambda x:x.split(' ')[0])\n",
    "    df['Ratings']=df['Ratings'].apply(lambda x:x.replace(',',''))\n",
    "    df['Reviews']=df['Reviews'].astype('float')\n",
    "    df['Ratings']=df['Ratings'].astype('int')\n",
    "\n",
    "\n",
    "    df['ratings_sum']=df.groupby(['Title','Author','Edition'])['Ratings'].transform('sum')\n",
    "    df['mean_reviews']=df.groupby(['Title','Author','Edition'])['Reviews'].transform('mean')\n",
    "    df.drop_duplicates(subset=['Title','Author','Edition'],keep='first',inplace=True)\n",
    "    df.drop(['Reviews', 'Ratings'],axis=1,inplace=True)\n",
    "    df.rename(columns={'ratings_sum':'ratings',\"mean_reviews\":\"reviews\"},inplace=True)\n",
    "    \n",
    "    return df"
   ]
  },
  {
   "cell_type": "code",
   "execution_count": 12,
   "id": "e46fcf3b",
   "metadata": {},
   "outputs": [],
   "source": [
    "import nltk\n",
    "from nltk.corpus import stopwords\n",
    "from nltk import word_tokenize\n",
    "from nltk.stem import WordNetLemmatizer\n",
    "\n",
    "stops=stopwords.words(\"english\")"
   ]
  },
  {
   "cell_type": "code",
   "execution_count": 13,
   "id": "22823e66",
   "metadata": {},
   "outputs": [],
   "source": [
    "def preprocess_txt(data):\n",
    "    stops=stopwords.words(\"english\")\n",
    "\n",
    "    #data['STORY']=data.STORY.apply(lambda x:contractions.fix(x.lower()))\n",
    "    data=data.apply(lambda x:word_tokenize(x.lower()))\n",
    "    stops=stopwords.words('english')\n",
    "    data=data.apply(lambda x:[i for i in x if i.isalpha()])\n",
    "    data=data.apply(lambda x:[i for i in x if i not in stops])\n",
    "    data=data.apply(lambda x:[WordNetLemmatizer().lemmatize(i) for i in x])\n",
    "    data=data.apply(lambda x:' '.join([str(i) for i in x]))\n",
    "    \n",
    "    return data"
   ]
  },
  {
   "cell_type": "code",
   "execution_count": 14,
   "id": "f0f98ab7",
   "metadata": {},
   "outputs": [],
   "source": [
    "data['Title']=preprocess_txt(data['Title'])\n",
    "data['Author']=preprocess_txt(data['Author'])\n",
    "data['Synopsis']=preprocess_txt(data['Synopsis'])\n",
    "data['Genre']=preprocess_txt(data['Genre'])"
   ]
  },
  {
   "cell_type": "code",
   "execution_count": 15,
   "id": "3ae8282f",
   "metadata": {},
   "outputs": [],
   "source": [
    "def process_edition(df):\n",
    "    df['Edition_paper']=df['Edition'].apply(lambda x:x.split(\",–\")[0].strip())\n",
    "    df['edition_date']=df['Edition'].apply(lambda x:x.split(\",–\")[1].strip())\n",
    "    df['edition_date']=df['edition_date'].apply(lambda x:x.split(\",\")[1].strip() if ',' in x else x)\n",
    "\n",
    "    def to_date(x):\n",
    "        try:\n",
    "            x=pd.to_datetime(x)\n",
    "            return x\n",
    "        except(Exception):\n",
    "            return False\n",
    "\n",
    "    df['edition_date']=df['edition_date'].apply(to_date)\n",
    "    df.drop(columns=['Edition'],axis=1,inplace=True)\n",
    "    df['Edition_paper']=np.where(df.Edition_paper.str.contains(\"Paperback\",case=False),'Paperback',df.Edition_paper)\n",
    "    return df"
   ]
  },
  {
   "cell_type": "code",
   "execution_count": 16,
   "id": "cdca7b42",
   "metadata": {},
   "outputs": [
    {
     "data": {
      "text/html": [
       "<style>#sk-container-id-1 {color: black;background-color: white;}#sk-container-id-1 pre{padding: 0;}#sk-container-id-1 div.sk-toggleable {background-color: white;}#sk-container-id-1 label.sk-toggleable__label {cursor: pointer;display: block;width: 100%;margin-bottom: 0;padding: 0.3em;box-sizing: border-box;text-align: center;}#sk-container-id-1 label.sk-toggleable__label-arrow:before {content: \"▸\";float: left;margin-right: 0.25em;color: #696969;}#sk-container-id-1 label.sk-toggleable__label-arrow:hover:before {color: black;}#sk-container-id-1 div.sk-estimator:hover label.sk-toggleable__label-arrow:before {color: black;}#sk-container-id-1 div.sk-toggleable__content {max-height: 0;max-width: 0;overflow: hidden;text-align: left;background-color: #f0f8ff;}#sk-container-id-1 div.sk-toggleable__content pre {margin: 0.2em;color: black;border-radius: 0.25em;background-color: #f0f8ff;}#sk-container-id-1 input.sk-toggleable__control:checked~div.sk-toggleable__content {max-height: 200px;max-width: 100%;overflow: auto;}#sk-container-id-1 input.sk-toggleable__control:checked~label.sk-toggleable__label-arrow:before {content: \"▾\";}#sk-container-id-1 div.sk-estimator input.sk-toggleable__control:checked~label.sk-toggleable__label {background-color: #d4ebff;}#sk-container-id-1 div.sk-label input.sk-toggleable__control:checked~label.sk-toggleable__label {background-color: #d4ebff;}#sk-container-id-1 input.sk-hidden--visually {border: 0;clip: rect(1px 1px 1px 1px);clip: rect(1px, 1px, 1px, 1px);height: 1px;margin: -1px;overflow: hidden;padding: 0;position: absolute;width: 1px;}#sk-container-id-1 div.sk-estimator {font-family: monospace;background-color: #f0f8ff;border: 1px dotted black;border-radius: 0.25em;box-sizing: border-box;margin-bottom: 0.5em;}#sk-container-id-1 div.sk-estimator:hover {background-color: #d4ebff;}#sk-container-id-1 div.sk-parallel-item::after {content: \"\";width: 100%;border-bottom: 1px solid gray;flex-grow: 1;}#sk-container-id-1 div.sk-label:hover label.sk-toggleable__label {background-color: #d4ebff;}#sk-container-id-1 div.sk-serial::before {content: \"\";position: absolute;border-left: 1px solid gray;box-sizing: border-box;top: 0;bottom: 0;left: 50%;z-index: 0;}#sk-container-id-1 div.sk-serial {display: flex;flex-direction: column;align-items: center;background-color: white;padding-right: 0.2em;padding-left: 0.2em;position: relative;}#sk-container-id-1 div.sk-item {position: relative;z-index: 1;}#sk-container-id-1 div.sk-parallel {display: flex;align-items: stretch;justify-content: center;background-color: white;position: relative;}#sk-container-id-1 div.sk-item::before, #sk-container-id-1 div.sk-parallel-item::before {content: \"\";position: absolute;border-left: 1px solid gray;box-sizing: border-box;top: 0;bottom: 0;left: 50%;z-index: -1;}#sk-container-id-1 div.sk-parallel-item {display: flex;flex-direction: column;z-index: 1;position: relative;background-color: white;}#sk-container-id-1 div.sk-parallel-item:first-child::after {align-self: flex-end;width: 50%;}#sk-container-id-1 div.sk-parallel-item:last-child::after {align-self: flex-start;width: 50%;}#sk-container-id-1 div.sk-parallel-item:only-child::after {width: 0;}#sk-container-id-1 div.sk-dashed-wrapped {border: 1px dashed gray;margin: 0 0.4em 0.5em 0.4em;box-sizing: border-box;padding-bottom: 0.4em;background-color: white;}#sk-container-id-1 div.sk-label label {font-family: monospace;font-weight: bold;display: inline-block;line-height: 1.2em;}#sk-container-id-1 div.sk-label-container {text-align: center;}#sk-container-id-1 div.sk-container {/* jupyter's `normalize.less` sets `[hidden] { display: none; }` but bootstrap.min.css set `[hidden] { display: none !important; }` so we also need the `!important` here to be able to override the default hidden behavior on the sphinx rendered scikit-learn.org. See: https://github.com/scikit-learn/scikit-learn/issues/21755 */display: inline-block !important;position: relative;}#sk-container-id-1 div.sk-text-repr-fallback {display: none;}</style><div id=\"sk-container-id-1\" class=\"sk-top-container\"><div class=\"sk-text-repr-fallback\"><pre>OneHotEncoder(drop=&#x27;first&#x27;)</pre><b>In a Jupyter environment, please rerun this cell to show the HTML representation or trust the notebook. <br />On GitHub, the HTML representation is unable to render, please try loading this page with nbviewer.org.</b></div><div class=\"sk-container\" hidden><div class=\"sk-item\"><div class=\"sk-estimator sk-toggleable\"><input class=\"sk-toggleable__control sk-hidden--visually\" id=\"sk-estimator-id-1\" type=\"checkbox\" checked><label for=\"sk-estimator-id-1\" class=\"sk-toggleable__label sk-toggleable__label-arrow\">OneHotEncoder</label><div class=\"sk-toggleable__content\"><pre>OneHotEncoder(drop=&#x27;first&#x27;)</pre></div></div></div></div></div>"
      ],
      "text/plain": [
       "OneHotEncoder(drop='first')"
      ]
     },
     "execution_count": 16,
     "metadata": {},
     "output_type": "execute_result"
    }
   ],
   "source": [
    "from sklearn.feature_extraction.text import CountVectorizer,TfidfVectorizer\n",
    "\n",
    "from sklearn.preprocessing import OneHotEncoder\n",
    "\n",
    "title_vector=TfidfVectorizer().fit(data['Title'])\n",
    "author_vector=TfidfVectorizer().fit(data['Author'])\n",
    "sunopsis_vector=TfidfVectorizer().fit(data['Synopsis'])\n",
    "genre_vetor=TfidfVectorizer().fit(data['Genre'])\n",
    "\n",
    "data=process_edition(data)\n",
    "\n",
    "ohe=OneHotEncoder(drop='first')\n",
    "ohe_cols=['BookCategory','Edition_paper']\n",
    "ohe.fit(data[ohe_cols])"
   ]
  },
  {
   "cell_type": "markdown",
   "id": "e9712659",
   "metadata": {},
   "source": [
    "# EDA and training the model"
   ]
  },
  {
   "cell_type": "code",
   "execution_count": 17,
   "id": "a48850a3",
   "metadata": {},
   "outputs": [],
   "source": [
    "train=process_rev_rat(train)"
   ]
  },
  {
   "cell_type": "code",
   "execution_count": 18,
   "id": "b4910d48",
   "metadata": {},
   "outputs": [],
   "source": [
    "train=process_edition(train)"
   ]
  },
  {
   "cell_type": "code",
   "execution_count": 19,
   "id": "da189387",
   "metadata": {},
   "outputs": [],
   "source": [
    "train.edition_date=train.edition_date.apply(lambda x:pd.to_datetime(\"1700-01-01\") if x==False else x)\n",
    "train=train.sort_values(['Title','edition_date'],ascending=True).reset_index(drop=True)\n",
    "train['edition']=train.groupby(\"Title\",as_index=False)['Title'].transform('rank',method='first')\n",
    "\n",
    "train.drop(\"edition_date\",axis=1,inplace=True)"
   ]
  },
  {
   "cell_type": "code",
   "execution_count": 20,
   "id": "e7df002d",
   "metadata": {},
   "outputs": [],
   "source": [
    "train['Title']=preprocess_txt(train['Title'])\n",
    "train['Author']=preprocess_txt(train['Author'])\n",
    "train['Synopsis']=preprocess_txt(train['Synopsis'])\n",
    "train['Genre']=preprocess_txt(train['Genre'])"
   ]
  },
  {
   "cell_type": "code",
   "execution_count": 21,
   "id": "83764605",
   "metadata": {},
   "outputs": [],
   "source": [
    "train['Title']=title_vector.transform(train['Title']).toarray()\n",
    "train['Author']=author_vector.transform(train['Author']).toarray()\n",
    "train['Synopsis']=sunopsis_vector.transform(train['Synopsis']).toarray()\n",
    "train['Genre']=genre_vetor.transform(train['Genre']).toarray()"
   ]
  },
  {
   "cell_type": "code",
   "execution_count": 22,
   "id": "a68de490",
   "metadata": {},
   "outputs": [
    {
     "data": {
      "text/html": [
       "<div>\n",
       "<style scoped>\n",
       "    .dataframe tbody tr th:only-of-type {\n",
       "        vertical-align: middle;\n",
       "    }\n",
       "\n",
       "    .dataframe tbody tr th {\n",
       "        vertical-align: top;\n",
       "    }\n",
       "\n",
       "    .dataframe thead th {\n",
       "        text-align: right;\n",
       "    }\n",
       "</style>\n",
       "<table border=\"1\" class=\"dataframe\">\n",
       "  <thead>\n",
       "    <tr style=\"text-align: right;\">\n",
       "      <th></th>\n",
       "      <th>Title</th>\n",
       "      <th>Author</th>\n",
       "      <th>Synopsis</th>\n",
       "      <th>Genre</th>\n",
       "      <th>BookCategory</th>\n",
       "      <th>Price</th>\n",
       "      <th>ratings</th>\n",
       "      <th>reviews</th>\n",
       "      <th>Edition_paper</th>\n",
       "      <th>edition</th>\n",
       "    </tr>\n",
       "  </thead>\n",
       "  <tbody>\n",
       "    <tr>\n",
       "      <th>0</th>\n",
       "      <td>0.0</td>\n",
       "      <td>0.0</td>\n",
       "      <td>0.0</td>\n",
       "      <td>0.0</td>\n",
       "      <td>Biographies, Diaries &amp; True Accounts</td>\n",
       "      <td>399.00</td>\n",
       "      <td>17</td>\n",
       "      <td>3.9</td>\n",
       "      <td>Paperback</td>\n",
       "      <td>1.0</td>\n",
       "    </tr>\n",
       "    <tr>\n",
       "      <th>1</th>\n",
       "      <td>0.0</td>\n",
       "      <td>0.0</td>\n",
       "      <td>0.0</td>\n",
       "      <td>0.0</td>\n",
       "      <td>Computing, Internet &amp; Digital Media</td>\n",
       "      <td>400.44</td>\n",
       "      <td>17</td>\n",
       "      <td>3.9</td>\n",
       "      <td>Paperback</td>\n",
       "      <td>2.0</td>\n",
       "    </tr>\n",
       "    <tr>\n",
       "      <th>2</th>\n",
       "      <td>0.0</td>\n",
       "      <td>0.0</td>\n",
       "      <td>0.0</td>\n",
       "      <td>0.0</td>\n",
       "      <td>Sports</td>\n",
       "      <td>336.00</td>\n",
       "      <td>1</td>\n",
       "      <td>1.0</td>\n",
       "      <td>Hardcover</td>\n",
       "      <td>1.0</td>\n",
       "    </tr>\n",
       "    <tr>\n",
       "      <th>3</th>\n",
       "      <td>0.0</td>\n",
       "      <td>0.0</td>\n",
       "      <td>0.0</td>\n",
       "      <td>0.0</td>\n",
       "      <td>Computing, Internet &amp; Digital Media</td>\n",
       "      <td>3980.00</td>\n",
       "      <td>18</td>\n",
       "      <td>3.8</td>\n",
       "      <td>Paperback</td>\n",
       "      <td>1.0</td>\n",
       "    </tr>\n",
       "    <tr>\n",
       "      <th>4</th>\n",
       "      <td>0.0</td>\n",
       "      <td>0.0</td>\n",
       "      <td>0.0</td>\n",
       "      <td>0.0</td>\n",
       "      <td>Arts, Film &amp; Photography</td>\n",
       "      <td>690.00</td>\n",
       "      <td>2</td>\n",
       "      <td>5.0</td>\n",
       "      <td>Paperback</td>\n",
       "      <td>1.0</td>\n",
       "    </tr>\n",
       "    <tr>\n",
       "      <th>...</th>\n",
       "      <td>...</td>\n",
       "      <td>...</td>\n",
       "      <td>...</td>\n",
       "      <td>...</td>\n",
       "      <td>...</td>\n",
       "      <td>...</td>\n",
       "      <td>...</td>\n",
       "      <td>...</td>\n",
       "      <td>...</td>\n",
       "      <td>...</td>\n",
       "    </tr>\n",
       "    <tr>\n",
       "      <th>5601</th>\n",
       "      <td>0.0</td>\n",
       "      <td>0.0</td>\n",
       "      <td>0.0</td>\n",
       "      <td>0.0</td>\n",
       "      <td>Humour</td>\n",
       "      <td>779.00</td>\n",
       "      <td>7</td>\n",
       "      <td>3.8</td>\n",
       "      <td>Paperback</td>\n",
       "      <td>1.0</td>\n",
       "    </tr>\n",
       "    <tr>\n",
       "      <th>5602</th>\n",
       "      <td>0.0</td>\n",
       "      <td>0.0</td>\n",
       "      <td>0.0</td>\n",
       "      <td>0.0</td>\n",
       "      <td>Politics</td>\n",
       "      <td>687.00</td>\n",
       "      <td>35</td>\n",
       "      <td>4.4</td>\n",
       "      <td>Paperback</td>\n",
       "      <td>1.0</td>\n",
       "    </tr>\n",
       "    <tr>\n",
       "      <th>5603</th>\n",
       "      <td>0.0</td>\n",
       "      <td>0.0</td>\n",
       "      <td>0.0</td>\n",
       "      <td>0.0</td>\n",
       "      <td>Computing, Internet &amp; Digital Media</td>\n",
       "      <td>459.00</td>\n",
       "      <td>35</td>\n",
       "      <td>4.5</td>\n",
       "      <td>Paperback</td>\n",
       "      <td>1.0</td>\n",
       "    </tr>\n",
       "    <tr>\n",
       "      <th>5604</th>\n",
       "      <td>0.0</td>\n",
       "      <td>0.0</td>\n",
       "      <td>0.0</td>\n",
       "      <td>0.0</td>\n",
       "      <td>Biographies, Diaries &amp; True Accounts</td>\n",
       "      <td>170.00</td>\n",
       "      <td>30</td>\n",
       "      <td>4.5</td>\n",
       "      <td>Paperback</td>\n",
       "      <td>1.0</td>\n",
       "    </tr>\n",
       "    <tr>\n",
       "      <th>5605</th>\n",
       "      <td>0.0</td>\n",
       "      <td>0.0</td>\n",
       "      <td>0.0</td>\n",
       "      <td>0.0</td>\n",
       "      <td>Romance</td>\n",
       "      <td>1038.00</td>\n",
       "      <td>4</td>\n",
       "      <td>4.7</td>\n",
       "      <td>Paperback</td>\n",
       "      <td>1.0</td>\n",
       "    </tr>\n",
       "  </tbody>\n",
       "</table>\n",
       "<p>5606 rows × 10 columns</p>\n",
       "</div>"
      ],
      "text/plain": [
       "      Title  Author  Synopsis  Genre                          BookCategory  \\\n",
       "0       0.0     0.0       0.0    0.0  Biographies, Diaries & True Accounts   \n",
       "1       0.0     0.0       0.0    0.0   Computing, Internet & Digital Media   \n",
       "2       0.0     0.0       0.0    0.0                                Sports   \n",
       "3       0.0     0.0       0.0    0.0   Computing, Internet & Digital Media   \n",
       "4       0.0     0.0       0.0    0.0              Arts, Film & Photography   \n",
       "...     ...     ...       ...    ...                                   ...   \n",
       "5601    0.0     0.0       0.0    0.0                                Humour   \n",
       "5602    0.0     0.0       0.0    0.0                              Politics   \n",
       "5603    0.0     0.0       0.0    0.0   Computing, Internet & Digital Media   \n",
       "5604    0.0     0.0       0.0    0.0  Biographies, Diaries & True Accounts   \n",
       "5605    0.0     0.0       0.0    0.0                               Romance   \n",
       "\n",
       "        Price  ratings  reviews Edition_paper  edition  \n",
       "0      399.00       17      3.9     Paperback      1.0  \n",
       "1      400.44       17      3.9     Paperback      2.0  \n",
       "2      336.00        1      1.0     Hardcover      1.0  \n",
       "3     3980.00       18      3.8     Paperback      1.0  \n",
       "4      690.00        2      5.0     Paperback      1.0  \n",
       "...       ...      ...      ...           ...      ...  \n",
       "5601   779.00        7      3.8     Paperback      1.0  \n",
       "5602   687.00       35      4.4     Paperback      1.0  \n",
       "5603   459.00       35      4.5     Paperback      1.0  \n",
       "5604   170.00       30      4.5     Paperback      1.0  \n",
       "5605  1038.00        4      4.7     Paperback      1.0  \n",
       "\n",
       "[5606 rows x 10 columns]"
      ]
     },
     "execution_count": 22,
     "metadata": {},
     "output_type": "execute_result"
    }
   ],
   "source": [
    "train"
   ]
  },
  {
   "cell_type": "code",
   "execution_count": 23,
   "id": "ad9909ad",
   "metadata": {},
   "outputs": [
    {
     "data": {
      "text/plain": [
       "<AxesSubplot:xlabel='Price', ylabel='Density'>"
      ]
     },
     "execution_count": 23,
     "metadata": {},
     "output_type": "execute_result"
    },
    {
     "data": {
      "image/png": "[encoded data removed]",
      "text/plain": [
       "<Figure size 432x288 with 1 Axes>"
      ]
     },
     "metadata": {},
     "output_type": "display_data"
    }
   ],
   "source": [
    "sns.distplot(train['Price'])"
   ]
  },
  {
   "cell_type": "code",
   "execution_count": 24,
   "id": "6acad42e",
   "metadata": {},
   "outputs": [
    {
     "data": {
      "text/plain": [
       "<AxesSubplot:xlabel='Price'>"
      ]
     },
     "execution_count": 24,
     "metadata": {},
     "output_type": "execute_result"
    },
    {
     "data": {
      "image/png": "[encoded data removed]",
      "text/plain": [
       "<Figure size 432x288 with 1 Axes>"
      ]
     },
     "metadata": {},
     "output_type": "display_data"
    }
   ],
   "source": [
    "sns.boxplot(train['Price'])"
   ]
  },
  {
   "cell_type": "code",
   "execution_count": 25,
   "id": "c3088b1f",
   "metadata": {},
   "outputs": [
    {
     "data": {
      "text/plain": [
       "<AxesSubplot:xlabel='reviews', ylabel='Price'>"
      ]
     },
     "execution_count": 25,
     "metadata": {},
     "output_type": "execute_result"
    },
    {
     "data": {
      "image/png": "[encoded data removed]",
      "text/plain": [
       "<Figure size 432x288 with 1 Axes>"
      ]
     },
     "metadata": {},
     "output_type": "display_data"
    }
   ],
   "source": [
    "sns.scatterplot(train['reviews'],train['Price'])"
   ]
  },
  {
   "cell_type": "code",
   "execution_count": 26,
   "id": "3a09df01",
   "metadata": {},
   "outputs": [
    {
     "data": {
      "text/plain": [
       "<AxesSubplot:xlabel='ratings', ylabel='Price'>"
      ]
     },
     "execution_count": 26,
     "metadata": {},
     "output_type": "execute_result"
    },
    {
     "data": {
      "image/png": "[encoded data removed]",
      "text/plain": [
       "<Figure size 432x288 with 1 Axes>"
      ]
     },
     "metadata": {},
     "output_type": "display_data"
    }
   ],
   "source": [
    "sns.scatterplot(train['ratings'],train['Price'])"
   ]
  },
  {
   "cell_type": "code",
   "execution_count": 27,
   "id": "12f41e1d",
   "metadata": {},
   "outputs": [
    {
     "data": {
      "text/plain": [
       "array(['Biographies, Diaries & True Accounts',\n",
       "       'Computing, Internet & Digital Media', 'Sports',\n",
       "       'Arts, Film & Photography', 'Humour', 'Action & Adventure',\n",
       "       'Comics & Mangas', 'Politics', 'Language, Linguistics & Writing',\n",
       "       'Romance', 'Crime, Thriller & Mystery'], dtype=object)"
      ]
     },
     "execution_count": 27,
     "metadata": {},
     "output_type": "execute_result"
    }
   ],
   "source": [
    "train['BookCategory'].unique()"
   ]
  },
  {
   "cell_type": "code",
   "execution_count": 28,
   "id": "d28e1a03",
   "metadata": {},
   "outputs": [
    {
     "data": {
      "text/plain": [
       "Text(0, 0.5, 'count')"
      ]
     },
     "execution_count": 28,
     "metadata": {},
     "output_type": "execute_result"
    },
    {
     "data": {
      "image/png": "[encoded data removed]",
      "text/plain": [
       "<Figure size 720x288 with 1 Axes>"
      ]
     },
     "metadata": {},
     "output_type": "display_data"
    }
   ],
   "source": [
    "plt.figure(figsize=(10,4))\n",
    "train['BookCategory'].value_counts().sort_values(ascending=False).plot(kind='bar')\n",
    "plt.title(\"count plot of BookCategory\",fontsize=15,color='red')\n",
    "plt.xlabel(\"BookCategory\")\n",
    "plt.ylabel(\"count\")"
   ]
  },
  {
   "cell_type": "code",
   "execution_count": 29,
   "id": "122835cd",
   "metadata": {},
   "outputs": [
    {
     "data": {
      "text/plain": [
       "Text(0.5, 1.0, 'Price by Category')"
      ]
     },
     "execution_count": 29,
     "metadata": {},
     "output_type": "execute_result"
    },
    {
     "data": {
      "image/png": "[encoded data removed]",
      "text/plain": [
       "<Figure size 720x432 with 1 Axes>"
      ]
     },
     "metadata": {},
     "output_type": "display_data"
    }
   ],
   "source": [
    "plt.figure(figsize=(10,6))\n",
    "train.groupby('BookCategory')['Price'].mean().sort_values(ascending=False).plot(kind='bar',color=['r','g','b'])\n",
    "plt.xlabel(\"BookCategory\",color='red',fontsize=20)\n",
    "plt.ylabel(\"Avg_Price\",color='red',fontsize=20)\n",
    "plt.title(\"Price by Category\",color='red',fontsize=20)"
   ]
  },
  {
   "cell_type": "code",
   "execution_count": 30,
   "id": "287946a5",
   "metadata": {},
   "outputs": [
    {
     "data": {
      "text/plain": [
       "Text(0, 0.5, 'Price')"
      ]
     },
     "execution_count": 30,
     "metadata": {},
     "output_type": "execute_result"
    },
    {
     "data": {
      "image/png": "[encoded data removed]",
      "text/plain": [
       "<Figure size 720x288 with 1 Axes>"
      ]
     },
     "metadata": {},
     "output_type": "display_data"
    }
   ],
   "source": [
    "plt.figure(figsize=(10,4))\n",
    "train.groupby(['Edition_paper'])['Price'].min().sort_values(ascending=False).plot(kind='bar',color=['red','blue','green'])\n",
    "plt.title(\"Paper wise Price\",fontsize=20,color='blue')\n",
    "plt.xlabel(\"Edition paper\",fontsize=20,color='green')\n",
    "plt.ylabel(\"Price\",fontsize=20,color='green')"
   ]
  },
  {
   "cell_type": "code",
   "execution_count": 31,
   "id": "0912e5a4",
   "metadata": {},
   "outputs": [],
   "source": [
    "encoded=pd.DataFrame(ohe.transform(train[ohe_cols]).toarray())"
   ]
  },
  {
   "cell_type": "code",
   "execution_count": 32,
   "id": "901238a2",
   "metadata": {},
   "outputs": [],
   "source": [
    "train.drop(ohe_cols,axis=1,inplace=True)"
   ]
  },
  {
   "cell_type": "code",
   "execution_count": 33,
   "id": "333c71fd",
   "metadata": {},
   "outputs": [],
   "source": [
    "train=train.join(encoded)"
   ]
  },
  {
   "cell_type": "code",
   "execution_count": 35,
   "id": "893da147",
   "metadata": {},
   "outputs": [],
   "source": [
    "X=train.drop(\"Price\",axis=1)\n",
    "y=train['Price']"
   ]
  },
  {
   "cell_type": "markdown",
   "id": "41aa8888",
   "metadata": {},
   "source": [
    "# Model building and testing"
   ]
  },
  {
   "cell_type": "code",
   "execution_count": 48,
   "id": "9ecc536f",
   "metadata": {},
   "outputs": [],
   "source": [
    "from sklearn.model_selection import train_test_split,RandomizedSearchCV\n",
    "from sklearn.metrics import r2_score\n",
    "from keras.models import Sequential\n",
    "from keras.layers import Dropout,Dense\n",
    "from keras.losses import mean_squared_error"
   ]
  },
  {
   "cell_type": "code",
   "execution_count": 49,
   "id": "9883eb9e",
   "metadata": {},
   "outputs": [
    {
     "ename": "TypeError",
     "evalue": "Missing required positional argument",
     "output_type": "error",
     "traceback": [
      "\u001b[1;31m---------------------------------------------------------------------------\u001b[0m",
      "\u001b[1;31mTypeError\u001b[0m                                 Traceback (most recent call last)",
      "\u001b[1;32m~\\AppData\\Local\\Temp/ipykernel_8680/1968107025.py\u001b[0m in \u001b[0;36m<module>\u001b[1;34m\u001b[0m\n\u001b[1;32m----> 1\u001b[1;33m \u001b[0mmse\u001b[0m\u001b[1;33m=\u001b[0m\u001b[0mmean_squared_error\u001b[0m\u001b[1;33m(\u001b[0m\u001b[1;33m)\u001b[0m\u001b[1;33m\u001b[0m\u001b[1;33m\u001b[0m\u001b[0m\n\u001b[0m",
      "\u001b[1;32mC:\\ProgramData\\Anaconda3\\lib\\site-packages\\tensorflow\\python\\util\\traceback_utils.py\u001b[0m in \u001b[0;36merror_handler\u001b[1;34m(*args, **kwargs)\u001b[0m\n\u001b[0;32m    151\u001b[0m     \u001b[1;32mexcept\u001b[0m \u001b[0mException\u001b[0m \u001b[1;32mas\u001b[0m \u001b[0me\u001b[0m\u001b[1;33m:\u001b[0m\u001b[1;33m\u001b[0m\u001b[1;33m\u001b[0m\u001b[0m\n\u001b[0;32m    152\u001b[0m       \u001b[0mfiltered_tb\u001b[0m \u001b[1;33m=\u001b[0m \u001b[0m_process_traceback_frames\u001b[0m\u001b[1;33m(\u001b[0m\u001b[0me\u001b[0m\u001b[1;33m.\u001b[0m\u001b[0m__traceback__\u001b[0m\u001b[1;33m)\u001b[0m\u001b[1;33m\u001b[0m\u001b[1;33m\u001b[0m\u001b[0m\n\u001b[1;32m--> 153\u001b[1;33m       \u001b[1;32mraise\u001b[0m \u001b[0me\u001b[0m\u001b[1;33m.\u001b[0m\u001b[0mwith_traceback\u001b[0m\u001b[1;33m(\u001b[0m\u001b[0mfiltered_tb\u001b[0m\u001b[1;33m)\u001b[0m \u001b[1;32mfrom\u001b[0m \u001b[1;32mNone\u001b[0m\u001b[1;33m\u001b[0m\u001b[1;33m\u001b[0m\u001b[0m\n\u001b[0m\u001b[0;32m    154\u001b[0m     \u001b[1;32mfinally\u001b[0m\u001b[1;33m:\u001b[0m\u001b[1;33m\u001b[0m\u001b[1;33m\u001b[0m\u001b[0m\n\u001b[0;32m    155\u001b[0m       \u001b[1;32mdel\u001b[0m \u001b[0mfiltered_tb\u001b[0m\u001b[1;33m\u001b[0m\u001b[1;33m\u001b[0m\u001b[0m\n",
      "\u001b[1;32mC:\\ProgramData\\Anaconda3\\lib\\site-packages\\tensorflow\\python\\util\\dispatch.py\u001b[0m in \u001b[0;36mop_dispatch_handler\u001b[1;34m(*args, **kwargs)\u001b[0m\n\u001b[0;32m   1074\u001b[0m         \u001b[1;32mif\u001b[0m \u001b[0miterable_params\u001b[0m \u001b[1;32mis\u001b[0m \u001b[1;32mnot\u001b[0m \u001b[1;32mNone\u001b[0m\u001b[1;33m:\u001b[0m\u001b[1;33m\u001b[0m\u001b[1;33m\u001b[0m\u001b[0m\n\u001b[0;32m   1075\u001b[0m           \u001b[0margs\u001b[0m\u001b[1;33m,\u001b[0m \u001b[0mkwargs\u001b[0m \u001b[1;33m=\u001b[0m \u001b[0mreplace_iterable_params\u001b[0m\u001b[1;33m(\u001b[0m\u001b[0margs\u001b[0m\u001b[1;33m,\u001b[0m \u001b[0mkwargs\u001b[0m\u001b[1;33m,\u001b[0m \u001b[0miterable_params\u001b[0m\u001b[1;33m)\u001b[0m\u001b[1;33m\u001b[0m\u001b[1;33m\u001b[0m\u001b[0m\n\u001b[1;32m-> 1076\u001b[1;33m         \u001b[0mresult\u001b[0m \u001b[1;33m=\u001b[0m \u001b[0mapi_dispatcher\u001b[0m\u001b[1;33m.\u001b[0m\u001b[0mDispatch\u001b[0m\u001b[1;33m(\u001b[0m\u001b[0margs\u001b[0m\u001b[1;33m,\u001b[0m \u001b[0mkwargs\u001b[0m\u001b[1;33m)\u001b[0m\u001b[1;33m\u001b[0m\u001b[1;33m\u001b[0m\u001b[0m\n\u001b[0m\u001b[0;32m   1077\u001b[0m         \u001b[1;32mif\u001b[0m \u001b[0mresult\u001b[0m \u001b[1;32mis\u001b[0m \u001b[1;32mnot\u001b[0m \u001b[0mNotImplemented\u001b[0m\u001b[1;33m:\u001b[0m\u001b[1;33m\u001b[0m\u001b[1;33m\u001b[0m\u001b[0m\n\u001b[0;32m   1078\u001b[0m           \u001b[1;32mreturn\u001b[0m \u001b[0mresult\u001b[0m\u001b[1;33m\u001b[0m\u001b[1;33m\u001b[0m\u001b[0m\n",
      "\u001b[1;31mTypeError\u001b[0m: Missing required positional argument"
     ]
    }
   ],
   "source": [
    "mse=mean_squared_error()"
   ]
  },
  {
   "cell_type": "code",
   "execution_count": 40,
   "id": "1635a866",
   "metadata": {},
   "outputs": [],
   "source": [
    "X_train,X_test,y_train,y_test=train_test_split(X,y,test_size=0.3,random_state=45)"
   ]
  },
  {
   "cell_type": "code",
   "execution_count": 41,
   "id": "506ae53c",
   "metadata": {},
   "outputs": [
    {
     "data": {
      "text/plain": [
       "(3924, 29)"
      ]
     },
     "execution_count": 41,
     "metadata": {},
     "output_type": "execute_result"
    }
   ],
   "source": [
    "X_train.shape"
   ]
  },
  {
   "cell_type": "code",
   "execution_count": 39,
   "id": "e9316049",
   "metadata": {},
   "outputs": [],
   "source": [
    "model=Sequential()"
   ]
  },
  {
   "cell_type": "code",
   "execution_count": 42,
   "id": "e63b1928",
   "metadata": {},
   "outputs": [],
   "source": [
    "model.add(Dense(units=29,kernel_initializer='normal',activation='relu'))\n",
    "model.add(Dropout(0.2))\n",
    "model.add(Dense(units=256,kernel_initializer='normal',activation='relu'))\n",
    "model.add(Dropout(0.2))\n",
    "model.add(Dense(units=480,kernel_initializer='normal',activation='relu'))\n",
    "model.add(Dropout(0.2))\n",
    "model.add(Dense(units=1,kernel_initializer='normal',activation='linear'))\n"
   ]
  },
  {
   "cell_type": "code",
   "execution_count": 50,
   "id": "05cacfe6",
   "metadata": {},
   "outputs": [],
   "source": [
    "model.compile(loss='mean_squared_error',optimizer='adam',metrics=['mean_squared_error'])"
   ]
  },
  {
   "cell_type": "code",
   "execution_count": 68,
   "id": "8cb4a75a",
   "metadata": {},
   "outputs": [
    {
     "name": "stdout",
     "output_type": "stream",
     "text": [
      "Epoch 1/300\n",
      "62/62 [==============================] - 0s 6ms/step - loss: 416194.8438 - mean_squared_error: 416194.8438\n",
      "Epoch 2/300\n",
      "62/62 [==============================] - 0s 7ms/step - loss: 415385.9688 - mean_squared_error: 415385.9688\n",
      "Epoch 3/300\n",
      "62/62 [==============================] - 1s 8ms/step - loss: 412902.4375 - mean_squared_error: 412902.4375\n",
      "Epoch 4/300\n",
      "62/62 [==============================] - 1s 8ms/step - loss: 418295.7188 - mean_squared_error: 418295.7188\n",
      "Epoch 5/300\n",
      "62/62 [==============================] - 1s 10ms/step - loss: 415139.5312 - mean_squared_error: 415139.5312\n",
      "Epoch 6/300\n",
      "62/62 [==============================] - 1s 11ms/step - loss: 409449.9375 - mean_squared_error: 409449.9375\n",
      "Epoch 7/300\n",
      "62/62 [==============================] - 0s 6ms/step - loss: 416293.5312 - mean_squared_error: 416293.5312\n",
      "Epoch 8/300\n",
      "62/62 [==============================] - 0s 5ms/step - loss: 412603.9375 - mean_squared_error: 412603.9375\n",
      "Epoch 9/300\n",
      "62/62 [==============================] - 0s 6ms/step - loss: 412413.3750 - mean_squared_error: 412413.3750\n",
      "Epoch 10/300\n",
      "62/62 [==============================] - 1s 11ms/step - loss: 413668.2812 - mean_squared_error: 413668.2812\n",
      "Epoch 11/300\n",
      "62/62 [==============================] - 1s 10ms/step - loss: 415218.0000 - mean_squared_error: 415218.0000\n",
      "Epoch 12/300\n",
      "62/62 [==============================] - 1s 8ms/step - loss: 414891.4688 - mean_squared_error: 414891.4688\n",
      "Epoch 13/300\n",
      "62/62 [==============================] - 0s 5ms/step - loss: 415775.0625 - mean_squared_error: 415775.0625\n",
      "Epoch 14/300\n",
      "62/62 [==============================] - 0s 6ms/step - loss: 410124.8438 - mean_squared_error: 410124.8438\n",
      "Epoch 15/300\n",
      "62/62 [==============================] - 0s 6ms/step - loss: 404273.0625 - mean_squared_error: 404273.0625\n",
      "Epoch 16/300\n",
      "62/62 [==============================] - 1s 9ms/step - loss: 411481.0000 - mean_squared_error: 411481.0000\n",
      "Epoch 17/300\n",
      "62/62 [==============================] - 1s 11ms/step - loss: 406633.6562 - mean_squared_error: 406633.6562\n",
      "Epoch 18/300\n",
      "62/62 [==============================] - 0s 6ms/step - loss: 408606.5625 - mean_squared_error: 408606.5625\n",
      "Epoch 19/300\n",
      "62/62 [==============================] - 0s 6ms/step - loss: 409996.0938 - mean_squared_error: 409996.0938\n",
      "Epoch 20/300\n",
      "62/62 [==============================] - 0s 5ms/step - loss: 414121.3750 - mean_squared_error: 414121.3750\n",
      "Epoch 21/300\n",
      "62/62 [==============================] - 0s 5ms/step - loss: 409897.4688 - mean_squared_error: 409897.4688\n",
      "Epoch 22/300\n",
      "62/62 [==============================] - 1s 9ms/step - loss: 405699.4688 - mean_squared_error: 405699.4688\n",
      "Epoch 23/300\n",
      "62/62 [==============================] - 0s 5ms/step - loss: 401252.9062 - mean_squared_error: 401252.9062\n",
      "Epoch 24/300\n",
      "62/62 [==============================] - 0s 5ms/step - loss: 415663.0625 - mean_squared_error: 415663.0625\n",
      "Epoch 25/300\n",
      "62/62 [==============================] - 0s 7ms/step - loss: 402720.2500 - mean_squared_error: 402720.2500\n",
      "Epoch 26/300\n",
      "62/62 [==============================] - 0s 6ms/step - loss: 406261.0000 - mean_squared_error: 406261.0000\n",
      "Epoch 27/300\n",
      "62/62 [==============================] - 0s 5ms/step - loss: 401344.5938 - mean_squared_error: 401344.5938\n",
      "Epoch 28/300\n",
      "62/62 [==============================] - 1s 11ms/step - loss: 400201.6875 - mean_squared_error: 400201.6875\n",
      "Epoch 29/300\n",
      "62/62 [==============================] - 0s 7ms/step - loss: 389237.4062 - mean_squared_error: 389237.4062\n",
      "Epoch 30/300\n",
      "62/62 [==============================] - 0s 7ms/step - loss: 401717.7812 - mean_squared_error: 401717.7812\n",
      "Epoch 31/300\n",
      "62/62 [==============================] - 0s 7ms/step - loss: 392221.9688 - mean_squared_error: 392221.9688\n",
      "Epoch 32/300\n",
      "62/62 [==============================] - 0s 6ms/step - loss: 384665.2500 - mean_squared_error: 384665.2500\n",
      "Epoch 33/300\n",
      "62/62 [==============================] - 1s 8ms/step - loss: 399304.3438 - mean_squared_error: 399304.3438\n",
      "Epoch 34/300\n",
      "62/62 [==============================] - 0s 8ms/step - loss: 404975.3125 - mean_squared_error: 404975.3125\n",
      "Epoch 35/300\n",
      "62/62 [==============================] - 0s 6ms/step - loss: 387593.7812 - mean_squared_error: 387593.7812\n",
      "Epoch 36/300\n",
      "62/62 [==============================] - 0s 5ms/step - loss: 402050.2188 - mean_squared_error: 402050.2188\n",
      "Epoch 37/300\n",
      "62/62 [==============================] - 0s 5ms/step - loss: 389803.4375 - mean_squared_error: 389803.4375\n",
      "Epoch 38/300\n",
      "62/62 [==============================] - 0s 5ms/step - loss: 381182.5625 - mean_squared_error: 381182.5625\n",
      "Epoch 39/300\n",
      "62/62 [==============================] - 0s 5ms/step - loss: 396634.7500 - mean_squared_error: 396634.7500\n",
      "Epoch 40/300\n",
      "62/62 [==============================] - 0s 5ms/step - loss: 383097.3438 - mean_squared_error: 383097.3438\n",
      "Epoch 41/300\n",
      "62/62 [==============================] - 0s 5ms/step - loss: 397089.5312 - mean_squared_error: 397089.5312\n",
      "Epoch 42/300\n",
      "62/62 [==============================] - 0s 5ms/step - loss: 396336.0938 - mean_squared_error: 396336.0938\n",
      "Epoch 43/300\n",
      "62/62 [==============================] - 0s 5ms/step - loss: 378550.2812 - mean_squared_error: 378550.2812\n",
      "Epoch 44/300\n",
      "62/62 [==============================] - 0s 5ms/step - loss: 384198.4062 - mean_squared_error: 384198.4062\n",
      "Epoch 45/300\n",
      "62/62 [==============================] - 0s 7ms/step - loss: 373461.6562 - mean_squared_error: 373461.6562\n",
      "Epoch 46/300\n",
      "62/62 [==============================] - 0s 7ms/step - loss: 384736.0312 - mean_squared_error: 384736.0312\n",
      "Epoch 47/300\n",
      "62/62 [==============================] - 0s 6ms/step - loss: 380073.7188 - mean_squared_error: 380073.7188\n",
      "Epoch 48/300\n",
      "62/62 [==============================] - 0s 5ms/step - loss: 405172.3125 - mean_squared_error: 405172.3125\n",
      "Epoch 49/300\n",
      "62/62 [==============================] - 0s 6ms/step - loss: 387572.8438 - mean_squared_error: 387572.8438\n",
      "Epoch 50/300\n",
      "62/62 [==============================] - 0s 6ms/step - loss: 382952.8438 - mean_squared_error: 382952.8438\n",
      "Epoch 51/300\n",
      "62/62 [==============================] - 0s 5ms/step - loss: 391381.9062 - mean_squared_error: 391381.9062\n",
      "Epoch 52/300\n",
      "62/62 [==============================] - 0s 5ms/step - loss: 381265.9062 - mean_squared_error: 381265.9062\n",
      "Epoch 53/300\n",
      "62/62 [==============================] - 0s 5ms/step - loss: 381530.0000 - mean_squared_error: 381530.0000\n",
      "Epoch 54/300\n",
      "62/62 [==============================] - 0s 5ms/step - loss: 374765.9062 - mean_squared_error: 374765.9062\n",
      "Epoch 55/300\n",
      "62/62 [==============================] - 0s 5ms/step - loss: 388271.3125 - mean_squared_error: 388271.3125\n",
      "Epoch 56/300\n",
      "62/62 [==============================] - 0s 5ms/step - loss: 403199.0625 - mean_squared_error: 403199.0625\n",
      "Epoch 57/300\n",
      "62/62 [==============================] - 0s 5ms/step - loss: 374799.8125 - mean_squared_error: 374799.8125\n",
      "Epoch 58/300\n",
      "62/62 [==============================] - 0s 5ms/step - loss: 385903.7188 - mean_squared_error: 385903.7188\n",
      "Epoch 59/300\n",
      "62/62 [==============================] - 0s 5ms/step - loss: 381541.7188 - mean_squared_error: 381541.7188\n",
      "Epoch 60/300\n",
      "62/62 [==============================] - 0s 5ms/step - loss: 376949.5938 - mean_squared_error: 376949.5938\n",
      "Epoch 61/300\n",
      "62/62 [==============================] - 0s 5ms/step - loss: 376708.3750 - mean_squared_error: 376708.3750\n",
      "Epoch 62/300\n",
      "62/62 [==============================] - 0s 5ms/step - loss: 380036.0000 - mean_squared_error: 380036.0000\n",
      "Epoch 63/300\n",
      "62/62 [==============================] - 0s 5ms/step - loss: 377614.0938 - mean_squared_error: 377614.0938\n",
      "Epoch 64/300\n",
      "62/62 [==============================] - 0s 5ms/step - loss: 373725.7812 - mean_squared_error: 373725.7812\n",
      "Epoch 65/300\n",
      "62/62 [==============================] - 0s 5ms/step - loss: 374058.7188 - mean_squared_error: 374058.7188\n",
      "Epoch 66/300\n",
      "62/62 [==============================] - 0s 5ms/step - loss: 388427.0938 - mean_squared_error: 388427.0938\n",
      "Epoch 67/300\n",
      "62/62 [==============================] - 0s 6ms/step - loss: 373709.5000 - mean_squared_error: 373709.5000\n",
      "Epoch 68/300\n",
      "62/62 [==============================] - 0s 5ms/step - loss: 380222.1875 - mean_squared_error: 380222.1875\n",
      "Epoch 69/300\n"
     ]
    },
    {
     "name": "stdout",
     "output_type": "stream",
     "text": [
      "62/62 [==============================] - 0s 6ms/step - loss: 383223.0312 - mean_squared_error: 383223.0312\n",
      "Epoch 70/300\n",
      "62/62 [==============================] - 1s 10ms/step - loss: 379479.0625 - mean_squared_error: 379479.0625\n",
      "Epoch 71/300\n",
      "62/62 [==============================] - 1s 9ms/step - loss: 386710.0000 - mean_squared_error: 386710.0000\n",
      "Epoch 72/300\n",
      "62/62 [==============================] - 0s 6ms/step - loss: 380750.6562 - mean_squared_error: 380750.6562\n",
      "Epoch 73/300\n",
      "62/62 [==============================] - 0s 5ms/step - loss: 375160.8750 - mean_squared_error: 375160.8750\n",
      "Epoch 74/300\n",
      "62/62 [==============================] - 0s 5ms/step - loss: 378267.1250 - mean_squared_error: 378267.1250\n",
      "Epoch 75/300\n",
      "62/62 [==============================] - 0s 5ms/step - loss: 372561.0938 - mean_squared_error: 372561.0938\n",
      "Epoch 76/300\n",
      "62/62 [==============================] - 0s 5ms/step - loss: 373718.8438 - mean_squared_error: 373718.8438\n",
      "Epoch 77/300\n",
      "62/62 [==============================] - 0s 5ms/step - loss: 381747.8750 - mean_squared_error: 381747.8750\n",
      "Epoch 78/300\n",
      "62/62 [==============================] - 0s 8ms/step - loss: 373952.4375 - mean_squared_error: 373952.4375\n",
      "Epoch 79/300\n",
      "62/62 [==============================] - 0s 7ms/step - loss: 380875.0625 - mean_squared_error: 380875.0625\n",
      "Epoch 80/300\n",
      "62/62 [==============================] - 1s 10ms/step - loss: 372509.4375 - mean_squared_error: 372509.4375\n",
      "Epoch 81/300\n",
      "62/62 [==============================] - 0s 7ms/step - loss: 374966.5938 - mean_squared_error: 374966.5938\n",
      "Epoch 82/300\n",
      "62/62 [==============================] - 1s 11ms/step - loss: 372187.3438 - mean_squared_error: 372187.3438\n",
      "Epoch 83/300\n",
      "62/62 [==============================] - 0s 7ms/step - loss: 376237.9062 - mean_squared_error: 376237.9062\n",
      "Epoch 84/300\n",
      "62/62 [==============================] - 0s 6ms/step - loss: 375482.9688 - mean_squared_error: 375482.9688\n",
      "Epoch 85/300\n",
      "62/62 [==============================] - 0s 5ms/step - loss: 369293.3438 - mean_squared_error: 369293.3438\n",
      "Epoch 86/300\n",
      "62/62 [==============================] - 0s 6ms/step - loss: 368568.2500 - mean_squared_error: 368568.2500\n",
      "Epoch 87/300\n",
      "62/62 [==============================] - 0s 6ms/step - loss: 375311.9062 - mean_squared_error: 375311.9062\n",
      "Epoch 88/300\n",
      "62/62 [==============================] - 0s 7ms/step - loss: 374566.9688 - mean_squared_error: 374566.9688\n",
      "Epoch 89/300\n",
      "62/62 [==============================] - 0s 6ms/step - loss: 379638.4375 - mean_squared_error: 379638.4375\n",
      "Epoch 90/300\n",
      "62/62 [==============================] - 0s 5ms/step - loss: 376770.0938 - mean_squared_error: 376770.0938\n",
      "Epoch 91/300\n",
      "62/62 [==============================] - 0s 6ms/step - loss: 368845.6875 - mean_squared_error: 368845.6875\n",
      "Epoch 92/300\n",
      "62/62 [==============================] - 0s 6ms/step - loss: 374738.5938 - mean_squared_error: 374738.5938\n",
      "Epoch 93/300\n",
      "62/62 [==============================] - 1s 8ms/step - loss: 376942.0000 - mean_squared_error: 376942.0000\n",
      "Epoch 94/300\n",
      "62/62 [==============================] - 0s 7ms/step - loss: 368877.4062 - mean_squared_error: 368877.4062\n",
      "Epoch 95/300\n",
      "62/62 [==============================] - 0s 6ms/step - loss: 387998.1875 - mean_squared_error: 387998.1875\n",
      "Epoch 96/300\n",
      "62/62 [==============================] - 0s 6ms/step - loss: 371277.3125 - mean_squared_error: 371277.3125\n",
      "Epoch 97/300\n",
      "62/62 [==============================] - 0s 7ms/step - loss: 370923.7188 - mean_squared_error: 370923.7188\n",
      "Epoch 98/300\n",
      "62/62 [==============================] - 0s 7ms/step - loss: 378187.0625 - mean_squared_error: 378187.0625\n",
      "Epoch 99/300\n",
      "62/62 [==============================] - 0s 6ms/step - loss: 384150.1875 - mean_squared_error: 384150.1875\n",
      "Epoch 100/300\n",
      "62/62 [==============================] - 0s 5ms/step - loss: 373244.9062 - mean_squared_error: 373244.9062\n",
      "Epoch 101/300\n",
      "62/62 [==============================] - 0s 6ms/step - loss: 370181.6562 - mean_squared_error: 370181.6562\n",
      "Epoch 102/300\n",
      "62/62 [==============================] - 0s 6ms/step - loss: 381408.1562 - mean_squared_error: 381408.1562\n",
      "Epoch 103/300\n",
      "62/62 [==============================] - 0s 5ms/step - loss: 368916.2812 - mean_squared_error: 368916.2812\n",
      "Epoch 104/300\n",
      "62/62 [==============================] - 0s 6ms/step - loss: 381700.1250 - mean_squared_error: 381700.1250\n",
      "Epoch 105/300\n",
      "62/62 [==============================] - 0s 5ms/step - loss: 371206.6250 - mean_squared_error: 371206.6250\n",
      "Epoch 106/300\n",
      "62/62 [==============================] - 0s 5ms/step - loss: 376156.5000 - mean_squared_error: 376156.5000\n",
      "Epoch 107/300\n",
      "62/62 [==============================] - 0s 5ms/step - loss: 368802.4375 - mean_squared_error: 368802.4375\n",
      "Epoch 108/300\n",
      "62/62 [==============================] - 0s 6ms/step - loss: 385457.2188 - mean_squared_error: 385457.2188\n",
      "Epoch 109/300\n",
      "62/62 [==============================] - 0s 6ms/step - loss: 375069.3438 - mean_squared_error: 375069.3438\n",
      "Epoch 110/300\n",
      "62/62 [==============================] - 0s 7ms/step - loss: 372489.4375 - mean_squared_error: 372489.4375\n",
      "Epoch 111/300\n",
      "62/62 [==============================] - 0s 6ms/step - loss: 383415.4062 - mean_squared_error: 383415.4062\n",
      "Epoch 112/300\n",
      "62/62 [==============================] - 0s 6ms/step - loss: 371705.2188 - mean_squared_error: 371705.2188\n",
      "Epoch 113/300\n",
      "62/62 [==============================] - 0s 6ms/step - loss: 369340.5625 - mean_squared_error: 369340.5625\n",
      "Epoch 114/300\n",
      "62/62 [==============================] - 0s 6ms/step - loss: 371201.5312 - mean_squared_error: 371201.5312\n",
      "Epoch 115/300\n",
      "62/62 [==============================] - 0s 6ms/step - loss: 363799.4688 - mean_squared_error: 363799.4688\n",
      "Epoch 116/300\n",
      "62/62 [==============================] - 0s 5ms/step - loss: 368909.2500 - mean_squared_error: 368909.2500\n",
      "Epoch 117/300\n",
      "62/62 [==============================] - 0s 5ms/step - loss: 381212.5312 - mean_squared_error: 381212.5312\n",
      "Epoch 118/300\n",
      "62/62 [==============================] - 0s 5ms/step - loss: 364845.4375 - mean_squared_error: 364845.4375\n",
      "Epoch 119/300\n",
      "62/62 [==============================] - 0s 5ms/step - loss: 387619.5312 - mean_squared_error: 387619.5312\n",
      "Epoch 120/300\n",
      "62/62 [==============================] - 0s 5ms/step - loss: 364037.7500 - mean_squared_error: 364037.7500\n",
      "Epoch 121/300\n",
      "62/62 [==============================] - 0s 7ms/step - loss: 373851.7812 - mean_squared_error: 373851.7812\n",
      "Epoch 122/300\n",
      "62/62 [==============================] - 0s 5ms/step - loss: 376010.7188 - mean_squared_error: 376010.7188\n",
      "Epoch 123/300\n",
      "62/62 [==============================] - 0s 5ms/step - loss: 369508.6562 - mean_squared_error: 369508.6562\n",
      "Epoch 124/300\n",
      "62/62 [==============================] - 0s 5ms/step - loss: 365159.8750 - mean_squared_error: 365159.8750\n",
      "Epoch 125/300\n",
      "62/62 [==============================] - 0s 5ms/step - loss: 374685.7500 - mean_squared_error: 374685.7500\n",
      "Epoch 126/300\n",
      "62/62 [==============================] - 0s 5ms/step - loss: 372834.8125 - mean_squared_error: 372834.8125\n",
      "Epoch 127/300\n",
      "62/62 [==============================] - 0s 5ms/step - loss: 370503.3125 - mean_squared_error: 370503.3125\n",
      "Epoch 128/300\n",
      "62/62 [==============================] - 0s 6ms/step - loss: 369558.2188 - mean_squared_error: 369558.2188\n",
      "Epoch 129/300\n",
      "62/62 [==============================] - 0s 6ms/step - loss: 380119.1562 - mean_squared_error: 380119.1562\n",
      "Epoch 130/300\n",
      "62/62 [==============================] - 0s 6ms/step - loss: 370493.8438 - mean_squared_error: 370493.8438\n",
      "Epoch 131/300\n",
      "62/62 [==============================] - 0s 5ms/step - loss: 369039.5938 - mean_squared_error: 369039.5938\n",
      "Epoch 132/300\n",
      "62/62 [==============================] - 0s 5ms/step - loss: 363751.1875 - mean_squared_error: 363751.1875\n",
      "Epoch 133/300\n",
      "62/62 [==============================] - 0s 5ms/step - loss: 367161.8438 - mean_squared_error: 367161.8438\n",
      "Epoch 134/300\n",
      "62/62 [==============================] - 0s 5ms/step - loss: 364985.3125 - mean_squared_error: 364985.3125\n",
      "Epoch 135/300\n",
      "62/62 [==============================] - 0s 5ms/step - loss: 378052.9375 - mean_squared_error: 378052.9375\n",
      "Epoch 136/300\n",
      "62/62 [==============================] - 0s 5ms/step - loss: 377590.5938 - mean_squared_error: 377590.5938\n",
      "Epoch 137/300\n"
     ]
    },
    {
     "name": "stdout",
     "output_type": "stream",
     "text": [
      "62/62 [==============================] - 0s 5ms/step - loss: 364358.8438 - mean_squared_error: 364358.8438\n",
      "Epoch 138/300\n",
      "62/62 [==============================] - 0s 5ms/step - loss: 380748.6875 - mean_squared_error: 380748.6875\n",
      "Epoch 139/300\n",
      "62/62 [==============================] - 0s 5ms/step - loss: 363530.7500 - mean_squared_error: 363530.7500\n",
      "Epoch 140/300\n",
      "62/62 [==============================] - 0s 5ms/step - loss: 375084.7812 - mean_squared_error: 375084.7812\n",
      "Epoch 141/300\n",
      "62/62 [==============================] - 0s 5ms/step - loss: 378633.0938 - mean_squared_error: 378633.0938\n",
      "Epoch 142/300\n",
      "62/62 [==============================] - 0s 5ms/step - loss: 368267.5625 - mean_squared_error: 368267.5625\n",
      "Epoch 143/300\n",
      "62/62 [==============================] - 0s 5ms/step - loss: 369365.3125 - mean_squared_error: 369365.3125\n",
      "Epoch 144/300\n",
      "62/62 [==============================] - 0s 5ms/step - loss: 371975.6875 - mean_squared_error: 371975.6875\n",
      "Epoch 145/300\n",
      "62/62 [==============================] - 0s 5ms/step - loss: 367616.5312 - mean_squared_error: 367616.5312\n",
      "Epoch 146/300\n",
      "62/62 [==============================] - 0s 5ms/step - loss: 371568.4062 - mean_squared_error: 371568.4062\n",
      "Epoch 147/300\n",
      "62/62 [==============================] - 0s 5ms/step - loss: 366908.2188 - mean_squared_error: 366908.2188\n",
      "Epoch 148/300\n",
      "62/62 [==============================] - 0s 5ms/step - loss: 368861.2812 - mean_squared_error: 368861.2812\n",
      "Epoch 149/300\n",
      "62/62 [==============================] - 0s 5ms/step - loss: 368971.0000 - mean_squared_error: 368971.0000\n",
      "Epoch 150/300\n",
      "62/62 [==============================] - 0s 5ms/step - loss: 375244.0938 - mean_squared_error: 375244.0938\n",
      "Epoch 151/300\n",
      "62/62 [==============================] - 0s 5ms/step - loss: 370188.0000 - mean_squared_error: 370188.0000\n",
      "Epoch 152/300\n",
      "62/62 [==============================] - 0s 5ms/step - loss: 364402.9062 - mean_squared_error: 364402.9062\n",
      "Epoch 153/300\n",
      "62/62 [==============================] - 0s 5ms/step - loss: 379570.2812 - mean_squared_error: 379570.2812\n",
      "Epoch 154/300\n",
      "62/62 [==============================] - 0s 5ms/step - loss: 361004.0625 - mean_squared_error: 361004.0625\n",
      "Epoch 155/300\n",
      "62/62 [==============================] - 0s 5ms/step - loss: 373790.7188 - mean_squared_error: 373790.7188\n",
      "Epoch 156/300\n",
      "62/62 [==============================] - 0s 6ms/step - loss: 370574.6875 - mean_squared_error: 370574.6875\n",
      "Epoch 157/300\n",
      "62/62 [==============================] - 0s 5ms/step - loss: 366050.5312 - mean_squared_error: 366050.5312\n",
      "Epoch 158/300\n",
      "62/62 [==============================] - 0s 5ms/step - loss: 368233.3438 - mean_squared_error: 368233.3438\n",
      "Epoch 159/300\n",
      "62/62 [==============================] - 0s 5ms/step - loss: 372966.3750 - mean_squared_error: 372966.3750\n",
      "Epoch 160/300\n",
      "62/62 [==============================] - 0s 5ms/step - loss: 365259.0938 - mean_squared_error: 365259.0938\n",
      "Epoch 161/300\n",
      "62/62 [==============================] - 0s 5ms/step - loss: 361140.6562 - mean_squared_error: 361140.6562\n",
      "Epoch 162/300\n",
      "62/62 [==============================] - 0s 5ms/step - loss: 367828.9688 - mean_squared_error: 367828.9688\n",
      "Epoch 163/300\n",
      "62/62 [==============================] - 0s 5ms/step - loss: 361594.5312 - mean_squared_error: 361594.5312\n",
      "Epoch 164/300\n",
      "62/62 [==============================] - 0s 5ms/step - loss: 374529.7812 - mean_squared_error: 374529.7812\n",
      "Epoch 165/300\n",
      "62/62 [==============================] - 0s 5ms/step - loss: 359546.7188 - mean_squared_error: 359546.7188\n",
      "Epoch 166/300\n",
      "62/62 [==============================] - 0s 5ms/step - loss: 361957.9688 - mean_squared_error: 361957.9688\n",
      "Epoch 167/300\n",
      "62/62 [==============================] - 0s 5ms/step - loss: 362130.6250 - mean_squared_error: 362130.6250\n",
      "Epoch 168/300\n",
      "62/62 [==============================] - 0s 5ms/step - loss: 366647.7812 - mean_squared_error: 366647.7812\n",
      "Epoch 169/300\n",
      "62/62 [==============================] - 0s 5ms/step - loss: 360009.8750 - mean_squared_error: 360009.8750\n",
      "Epoch 170/300\n",
      "62/62 [==============================] - 0s 5ms/step - loss: 377057.3750 - mean_squared_error: 377057.3750\n",
      "Epoch 171/300\n",
      "62/62 [==============================] - 0s 5ms/step - loss: 361415.3125 - mean_squared_error: 361415.3125\n",
      "Epoch 172/300\n",
      "62/62 [==============================] - 0s 5ms/step - loss: 369439.0000 - mean_squared_error: 369439.0000\n",
      "Epoch 173/300\n",
      "62/62 [==============================] - 0s 5ms/step - loss: 368349.2500 - mean_squared_error: 368349.2500\n",
      "Epoch 174/300\n",
      "62/62 [==============================] - 0s 5ms/step - loss: 374483.0938 - mean_squared_error: 374483.0938\n",
      "Epoch 175/300\n",
      "62/62 [==============================] - 0s 5ms/step - loss: 359090.8750 - mean_squared_error: 359090.8750\n",
      "Epoch 176/300\n",
      "62/62 [==============================] - 0s 5ms/step - loss: 366073.9375 - mean_squared_error: 366073.9375\n",
      "Epoch 177/300\n",
      "62/62 [==============================] - 0s 5ms/step - loss: 368311.1250 - mean_squared_error: 368311.1250\n",
      "Epoch 178/300\n",
      "62/62 [==============================] - 0s 5ms/step - loss: 372076.4062 - mean_squared_error: 372076.4062\n",
      "Epoch 179/300\n",
      "62/62 [==============================] - 0s 5ms/step - loss: 364056.0625 - mean_squared_error: 364056.0625\n",
      "Epoch 180/300\n",
      "62/62 [==============================] - 0s 5ms/step - loss: 356747.1875 - mean_squared_error: 356747.1875\n",
      "Epoch 181/300\n",
      "62/62 [==============================] - 0s 5ms/step - loss: 378045.1562 - mean_squared_error: 378045.1562\n",
      "Epoch 182/300\n",
      "62/62 [==============================] - 0s 5ms/step - loss: 359176.6250 - mean_squared_error: 359176.6250\n",
      "Epoch 183/300\n",
      "62/62 [==============================] - 0s 5ms/step - loss: 365392.5625 - mean_squared_error: 365392.5625\n",
      "Epoch 184/300\n",
      "62/62 [==============================] - 0s 5ms/step - loss: 370847.9688 - mean_squared_error: 370847.9688\n",
      "Epoch 185/300\n",
      "62/62 [==============================] - 0s 5ms/step - loss: 362772.2188 - mean_squared_error: 362772.2188\n",
      "Epoch 186/300\n",
      "62/62 [==============================] - 0s 5ms/step - loss: 372631.0000 - mean_squared_error: 372631.0000\n",
      "Epoch 187/300\n",
      "62/62 [==============================] - 0s 5ms/step - loss: 382801.0312 - mean_squared_error: 382801.0312\n",
      "Epoch 188/300\n",
      "62/62 [==============================] - 0s 6ms/step - loss: 369645.5312 - mean_squared_error: 369645.5312\n",
      "Epoch 189/300\n",
      "62/62 [==============================] - 0s 6ms/step - loss: 362581.5938 - mean_squared_error: 362581.5938\n",
      "Epoch 190/300\n",
      "62/62 [==============================] - 0s 5ms/step - loss: 364978.3750 - mean_squared_error: 364978.3750\n",
      "Epoch 191/300\n",
      "62/62 [==============================] - 0s 6ms/step - loss: 365289.5938 - mean_squared_error: 365289.5938\n",
      "Epoch 192/300\n",
      "62/62 [==============================] - 0s 6ms/step - loss: 367329.6250 - mean_squared_error: 367329.6250\n",
      "Epoch 193/300\n",
      "62/62 [==============================] - 0s 6ms/step - loss: 373511.1562 - mean_squared_error: 373511.1562\n",
      "Epoch 194/300\n",
      "62/62 [==============================] - 0s 6ms/step - loss: 373634.1875 - mean_squared_error: 373634.1875\n",
      "Epoch 195/300\n",
      "62/62 [==============================] - 0s 5ms/step - loss: 375832.6875 - mean_squared_error: 375832.6875\n",
      "Epoch 196/300\n",
      "62/62 [==============================] - 0s 5ms/step - loss: 364967.4688 - mean_squared_error: 364967.4688\n",
      "Epoch 197/300\n",
      "62/62 [==============================] - 0s 5ms/step - loss: 360170.8750 - mean_squared_error: 360170.8750\n",
      "Epoch 198/300\n",
      "62/62 [==============================] - 0s 5ms/step - loss: 367596.4688 - mean_squared_error: 367596.4688\n",
      "Epoch 199/300\n",
      "62/62 [==============================] - 0s 6ms/step - loss: 364393.9375 - mean_squared_error: 364393.9375\n",
      "Epoch 200/300\n",
      "62/62 [==============================] - 0s 5ms/step - loss: 368001.8125 - mean_squared_error: 368001.8125\n",
      "Epoch 201/300\n",
      "62/62 [==============================] - 0s 5ms/step - loss: 368575.0312 - mean_squared_error: 368575.0312\n",
      "Epoch 202/300\n",
      "62/62 [==============================] - 0s 7ms/step - loss: 365002.9062 - mean_squared_error: 365002.9062\n",
      "Epoch 203/300\n",
      "62/62 [==============================] - 0s 5ms/step - loss: 379024.0625 - mean_squared_error: 379024.0625\n",
      "Epoch 204/300\n"
     ]
    },
    {
     "name": "stdout",
     "output_type": "stream",
     "text": [
      "62/62 [==============================] - 0s 6ms/step - loss: 364376.2812 - mean_squared_error: 364376.2812\n",
      "Epoch 205/300\n",
      "62/62 [==============================] - 0s 6ms/step - loss: 369800.7188 - mean_squared_error: 369800.7188\n",
      "Epoch 206/300\n",
      "62/62 [==============================] - 0s 5ms/step - loss: 360857.2812 - mean_squared_error: 360857.2812\n",
      "Epoch 207/300\n",
      "62/62 [==============================] - 0s 5ms/step - loss: 366127.7188 - mean_squared_error: 366127.7188\n",
      "Epoch 208/300\n",
      "62/62 [==============================] - 0s 5ms/step - loss: 372168.9062 - mean_squared_error: 372168.9062\n",
      "Epoch 209/300\n",
      "62/62 [==============================] - 0s 5ms/step - loss: 367625.8750 - mean_squared_error: 367625.8750\n",
      "Epoch 210/300\n",
      "62/62 [==============================] - 0s 5ms/step - loss: 363192.2812 - mean_squared_error: 363192.2812\n",
      "Epoch 211/300\n",
      "62/62 [==============================] - 0s 7ms/step - loss: 372016.9062 - mean_squared_error: 372016.9062\n",
      "Epoch 212/300\n",
      "62/62 [==============================] - 0s 6ms/step - loss: 367379.3750 - mean_squared_error: 367379.3750\n",
      "Epoch 213/300\n",
      "62/62 [==============================] - 1s 10ms/step - loss: 362073.2188 - mean_squared_error: 362073.2188\n",
      "Epoch 214/300\n",
      "62/62 [==============================] - 0s 7ms/step - loss: 367646.4688 - mean_squared_error: 367646.4688\n",
      "Epoch 215/300\n",
      "62/62 [==============================] - 0s 6ms/step - loss: 369577.0938 - mean_squared_error: 369577.0938\n",
      "Epoch 216/300\n",
      "62/62 [==============================] - 0s 8ms/step - loss: 373804.4062 - mean_squared_error: 373804.4062\n",
      "Epoch 217/300\n",
      "62/62 [==============================] - 0s 8ms/step - loss: 353783.5625 - mean_squared_error: 353783.5625\n",
      "Epoch 218/300\n",
      "62/62 [==============================] - 1s 8ms/step - loss: 358649.3438 - mean_squared_error: 358649.3438\n",
      "Epoch 219/300\n",
      "62/62 [==============================] - 0s 5ms/step - loss: 363752.8750 - mean_squared_error: 363752.8750\n",
      "Epoch 220/300\n",
      "62/62 [==============================] - 0s 8ms/step - loss: 366580.0938 - mean_squared_error: 366580.0938\n",
      "Epoch 221/300\n",
      "62/62 [==============================] - 0s 8ms/step - loss: 365688.8125 - mean_squared_error: 365688.8125\n",
      "Epoch 222/300\n",
      "62/62 [==============================] - 0s 6ms/step - loss: 369747.8125 - mean_squared_error: 369747.8125\n",
      "Epoch 223/300\n",
      "62/62 [==============================] - 0s 5ms/step - loss: 359428.7188 - mean_squared_error: 359428.7188\n",
      "Epoch 224/300\n",
      "62/62 [==============================] - 0s 5ms/step - loss: 365010.5312 - mean_squared_error: 365010.5312\n",
      "Epoch 225/300\n",
      "62/62 [==============================] - 0s 5ms/step - loss: 374351.4688 - mean_squared_error: 374351.4688\n",
      "Epoch 226/300\n",
      "62/62 [==============================] - 0s 5ms/step - loss: 367433.7500 - mean_squared_error: 367433.7500\n",
      "Epoch 227/300\n",
      "62/62 [==============================] - 0s 5ms/step - loss: 365762.5625 - mean_squared_error: 365762.5625\n",
      "Epoch 228/300\n",
      "62/62 [==============================] - 0s 5ms/step - loss: 369722.5625 - mean_squared_error: 369722.5625\n",
      "Epoch 229/300\n",
      "62/62 [==============================] - 0s 6ms/step - loss: 359182.8125 - mean_squared_error: 359182.8125\n",
      "Epoch 230/300\n",
      "62/62 [==============================] - 0s 6ms/step - loss: 361362.4062 - mean_squared_error: 361362.4062\n",
      "Epoch 231/300\n",
      "62/62 [==============================] - 0s 5ms/step - loss: 382681.7188 - mean_squared_error: 382681.7188\n",
      "Epoch 232/300\n",
      "62/62 [==============================] - 0s 6ms/step - loss: 364212.4062 - mean_squared_error: 364212.4062\n",
      "Epoch 233/300\n",
      "62/62 [==============================] - 0s 5ms/step - loss: 355933.2812 - mean_squared_error: 355933.2812\n",
      "Epoch 234/300\n",
      "62/62 [==============================] - 0s 5ms/step - loss: 368254.5000 - mean_squared_error: 368254.5000\n",
      "Epoch 235/300\n",
      "62/62 [==============================] - 0s 6ms/step - loss: 370149.2812 - mean_squared_error: 370149.2812\n",
      "Epoch 236/300\n",
      "62/62 [==============================] - 0s 5ms/step - loss: 366170.0938 - mean_squared_error: 366170.0938\n",
      "Epoch 237/300\n",
      "62/62 [==============================] - 0s 5ms/step - loss: 372758.9062 - mean_squared_error: 372758.9062\n",
      "Epoch 238/300\n",
      "62/62 [==============================] - 0s 5ms/step - loss: 360575.6875 - mean_squared_error: 360575.6875\n",
      "Epoch 239/300\n",
      "62/62 [==============================] - 0s 6ms/step - loss: 361953.4062 - mean_squared_error: 361953.4062\n",
      "Epoch 240/300\n",
      "62/62 [==============================] - 0s 6ms/step - loss: 370442.6875 - mean_squared_error: 370442.6875\n",
      "Epoch 241/300\n",
      "62/62 [==============================] - 0s 7ms/step - loss: 374026.3125 - mean_squared_error: 374026.3125\n",
      "Epoch 242/300\n",
      "62/62 [==============================] - 0s 6ms/step - loss: 364784.1875 - mean_squared_error: 364784.1875\n",
      "Epoch 243/300\n",
      "62/62 [==============================] - 0s 6ms/step - loss: 362303.0000 - mean_squared_error: 362303.0000\n",
      "Epoch 244/300\n",
      "62/62 [==============================] - 0s 5ms/step - loss: 364397.3438 - mean_squared_error: 364397.3438\n",
      "Epoch 245/300\n",
      "62/62 [==============================] - 0s 5ms/step - loss: 376134.6250 - mean_squared_error: 376134.6250\n",
      "Epoch 246/300\n",
      "62/62 [==============================] - 0s 6ms/step - loss: 368403.3750 - mean_squared_error: 368403.3750\n",
      "Epoch 247/300\n",
      "62/62 [==============================] - 0s 5ms/step - loss: 361999.1250 - mean_squared_error: 361999.1250\n",
      "Epoch 248/300\n",
      "62/62 [==============================] - 0s 8ms/step - loss: 369964.2188 - mean_squared_error: 369964.2188\n",
      "Epoch 249/300\n",
      "62/62 [==============================] - 0s 5ms/step - loss: 360559.6250 - mean_squared_error: 360559.6250\n",
      "Epoch 250/300\n",
      "62/62 [==============================] - 0s 5ms/step - loss: 359773.5938 - mean_squared_error: 359773.5938\n",
      "Epoch 251/300\n",
      "62/62 [==============================] - 0s 5ms/step - loss: 363149.6875 - mean_squared_error: 363149.6875\n",
      "Epoch 252/300\n",
      "62/62 [==============================] - 0s 5ms/step - loss: 370118.2188 - mean_squared_error: 370118.2188\n",
      "Epoch 253/300\n",
      "62/62 [==============================] - 0s 6ms/step - loss: 364122.6562 - mean_squared_error: 364122.6562\n",
      "Epoch 254/300\n",
      "62/62 [==============================] - 0s 5ms/step - loss: 363506.1562 - mean_squared_error: 363506.1562\n",
      "Epoch 255/300\n",
      "62/62 [==============================] - 0s 5ms/step - loss: 376676.1875 - mean_squared_error: 376676.1875\n",
      "Epoch 256/300\n",
      "62/62 [==============================] - 0s 5ms/step - loss: 377155.0625 - mean_squared_error: 377155.0625\n",
      "Epoch 257/300\n",
      "62/62 [==============================] - 0s 5ms/step - loss: 366257.0312 - mean_squared_error: 366257.0312\n",
      "Epoch 258/300\n",
      "62/62 [==============================] - 0s 5ms/step - loss: 371094.4688 - mean_squared_error: 371094.4688\n",
      "Epoch 259/300\n",
      "62/62 [==============================] - 0s 5ms/step - loss: 366960.2188 - mean_squared_error: 366960.2188\n",
      "Epoch 260/300\n",
      "62/62 [==============================] - 0s 5ms/step - loss: 368428.4062 - mean_squared_error: 368428.4062\n",
      "Epoch 261/300\n",
      "62/62 [==============================] - 0s 6ms/step - loss: 375847.3125 - mean_squared_error: 375847.3125\n",
      "Epoch 262/300\n",
      "62/62 [==============================] - 0s 6ms/step - loss: 368117.9375 - mean_squared_error: 368117.9375\n",
      "Epoch 263/300\n",
      "62/62 [==============================] - 0s 5ms/step - loss: 359536.0938 - mean_squared_error: 359536.0938\n",
      "Epoch 264/300\n",
      "62/62 [==============================] - 0s 8ms/step - loss: 359184.0625 - mean_squared_error: 359184.0625\n",
      "Epoch 265/300\n",
      "62/62 [==============================] - 0s 5ms/step - loss: 357032.7500 - mean_squared_error: 357032.7500\n",
      "Epoch 266/300\n",
      "62/62 [==============================] - 0s 5ms/step - loss: 359854.7812 - mean_squared_error: 359854.7812\n",
      "Epoch 267/300\n",
      "62/62 [==============================] - 0s 6ms/step - loss: 365626.2500 - mean_squared_error: 365626.2500\n",
      "Epoch 268/300\n",
      "62/62 [==============================] - 0s 6ms/step - loss: 360389.8438 - mean_squared_error: 360389.8438\n",
      "Epoch 269/300\n",
      "62/62 [==============================] - 0s 5ms/step - loss: 375553.8125 - mean_squared_error: 375553.8125\n",
      "Epoch 270/300\n",
      "62/62 [==============================] - 0s 5ms/step - loss: 367492.5000 - mean_squared_error: 367492.5000\n",
      "Epoch 271/300\n"
     ]
    },
    {
     "name": "stdout",
     "output_type": "stream",
     "text": [
      "62/62 [==============================] - 0s 7ms/step - loss: 358894.0000 - mean_squared_error: 358894.0000\n",
      "Epoch 272/300\n",
      "62/62 [==============================] - 0s 5ms/step - loss: 374757.1875 - mean_squared_error: 374757.1875\n",
      "Epoch 273/300\n",
      "62/62 [==============================] - 0s 5ms/step - loss: 359654.7188 - mean_squared_error: 359654.7188\n",
      "Epoch 274/300\n",
      "62/62 [==============================] - 0s 5ms/step - loss: 362693.2500 - mean_squared_error: 362693.2500\n",
      "Epoch 275/300\n",
      "62/62 [==============================] - 0s 5ms/step - loss: 354081.8125 - mean_squared_error: 354081.8125\n",
      "Epoch 276/300\n",
      "62/62 [==============================] - 0s 5ms/step - loss: 376474.2500 - mean_squared_error: 376474.2500\n",
      "Epoch 277/300\n",
      "62/62 [==============================] - 0s 5ms/step - loss: 359594.4375 - mean_squared_error: 359594.4375\n",
      "Epoch 278/300\n",
      "62/62 [==============================] - 0s 6ms/step - loss: 371925.6250 - mean_squared_error: 371925.6250\n",
      "Epoch 279/300\n",
      "62/62 [==============================] - 1s 9ms/step - loss: 363015.8438 - mean_squared_error: 363015.8438\n",
      "Epoch 280/300\n",
      "62/62 [==============================] - 0s 7ms/step - loss: 359117.8438 - mean_squared_error: 359117.8438\n",
      "Epoch 281/300\n",
      "62/62 [==============================] - 1s 9ms/step - loss: 362109.4688 - mean_squared_error: 362109.4688\n",
      "Epoch 282/300\n",
      "62/62 [==============================] - 1s 8ms/step - loss: 355307.7812 - mean_squared_error: 355307.7812\n",
      "Epoch 283/300\n",
      "62/62 [==============================] - 1s 11ms/step - loss: 358100.3750 - mean_squared_error: 358100.3750\n",
      "Epoch 284/300\n",
      "62/62 [==============================] - 0s 6ms/step - loss: 363894.0312 - mean_squared_error: 363894.0312\n",
      "Epoch 285/300\n",
      "62/62 [==============================] - 0s 5ms/step - loss: 366709.0000 - mean_squared_error: 366709.0000\n",
      "Epoch 286/300\n",
      "62/62 [==============================] - 0s 5ms/step - loss: 363585.4375 - mean_squared_error: 363585.4375\n",
      "Epoch 287/300\n",
      "62/62 [==============================] - 0s 8ms/step - loss: 357378.4688 - mean_squared_error: 357378.4688\n",
      "Epoch 288/300\n",
      "62/62 [==============================] - 0s 8ms/step - loss: 390503.3750 - mean_squared_error: 390503.3750\n",
      "Epoch 289/300\n",
      "62/62 [==============================] - 1s 9ms/step - loss: 358106.0312 - mean_squared_error: 358106.0312\n",
      "Epoch 290/300\n",
      "62/62 [==============================] - 1s 11ms/step - loss: 366434.4688 - mean_squared_error: 366434.4688\n",
      "Epoch 291/300\n",
      "62/62 [==============================] - 1s 10ms/step - loss: 364137.5312 - mean_squared_error: 364137.5312\n",
      "Epoch 292/300\n",
      "62/62 [==============================] - 0s 7ms/step - loss: 368387.8750 - mean_squared_error: 368387.8750\n",
      "Epoch 293/300\n",
      "62/62 [==============================] - 1s 11ms/step - loss: 371296.8125 - mean_squared_error: 371296.8125\n",
      "Epoch 294/300\n",
      "62/62 [==============================] - 0s 5ms/step - loss: 354719.2188 - mean_squared_error: 354719.2188\n",
      "Epoch 295/300\n",
      "62/62 [==============================] - 0s 6ms/step - loss: 351821.8125 - mean_squared_error: 351821.8125\n",
      "Epoch 296/300\n",
      "62/62 [==============================] - 0s 7ms/step - loss: 365469.2188 - mean_squared_error: 365469.2188\n",
      "Epoch 297/300\n",
      "62/62 [==============================] - 0s 5ms/step - loss: 367209.0312 - mean_squared_error: 367209.0312\n",
      "Epoch 298/300\n",
      "62/62 [==============================] - 0s 5ms/step - loss: 356254.5625 - mean_squared_error: 356254.5625\n",
      "Epoch 299/300\n",
      "62/62 [==============================] - 0s 5ms/step - loss: 372178.4375 - mean_squared_error: 372178.4375\n",
      "Epoch 300/300\n",
      "62/62 [==============================] - 0s 5ms/step - loss: 374447.1250 - mean_squared_error: 374447.1250\n"
     ]
    },
    {
     "data": {
      "text/plain": [
       "<keras.callbacks.History at 0x1fd4f019430>"
      ]
     },
     "execution_count": 68,
     "metadata": {},
     "output_type": "execute_result"
    }
   ],
   "source": [
    "model.fit(X_train,y_train,epochs=300,batch_size=64,)"
   ]
  },
  {
   "cell_type": "code",
   "execution_count": 69,
   "id": "9974fec2",
   "metadata": {},
   "outputs": [],
   "source": [
    "y_pred=model.predict(X_test)"
   ]
  },
  {
   "cell_type": "code",
   "execution_count": 70,
   "id": "d1a56962",
   "metadata": {},
   "outputs": [],
   "source": [
    "y_pred=y_pred.reshape(1682,)"
   ]
  },
  {
   "cell_type": "code",
   "execution_count": 71,
   "id": "6b5efec6",
   "metadata": {},
   "outputs": [
    {
     "data": {
      "text/plain": [
       "<AxesSubplot:xlabel='Price', ylabel='Density'>"
      ]
     },
     "execution_count": 71,
     "metadata": {},
     "output_type": "execute_result"
    },
    {
     "data": {
      "image/png": "[encoded data removed]",
      "text/plain": [
       "<Figure size 432x288 with 1 Axes>"
      ]
     },
     "metadata": {},
     "output_type": "display_data"
    }
   ],
   "source": [
    "sns.distplot(y_test-y_pred)"
   ]
  },
  {
   "cell_type": "code",
   "execution_count": 72,
   "id": "b0b6244a",
   "metadata": {},
   "outputs": [
    {
     "data": {
      "text/plain": [
       "2294    575.00\n",
       "3872    334.00\n",
       "2391    615.00\n",
       "1896    510.00\n",
       "4785    399.00\n",
       "         ...  \n",
       "4432    692.23\n",
       "1885    224.00\n",
       "4237    379.00\n",
       "3249    205.00\n",
       "3682    150.00\n",
       "Name: Price, Length: 1682, dtype: float64"
      ]
     },
     "execution_count": 72,
     "metadata": {},
     "output_type": "execute_result"
    }
   ],
   "source": [
    "y_test"
   ]
  },
  {
   "cell_type": "code",
   "execution_count": 73,
   "id": "48e28c2c",
   "metadata": {},
   "outputs": [
    {
     "data": {
      "text/plain": [
       "array([392.46692, 401.34973, 636.8155 , ..., 395.45767, 401.34973,\n",
       "       314.78433], dtype=float32)"
      ]
     },
     "execution_count": 73,
     "metadata": {},
     "output_type": "execute_result"
    }
   ],
   "source": [
    "y_pred"
   ]
  },
  {
   "cell_type": "code",
   "execution_count": 74,
   "id": "7974fc26",
   "metadata": {},
   "outputs": [
    {
     "data": {
      "text/plain": [
       "0.15903648601258347"
      ]
     },
     "execution_count": 74,
     "metadata": {},
     "output_type": "execute_result"
    }
   ],
   "source": [
    "r2_score(y_test,y_pred)"
   ]
  },
  {
   "cell_type": "code",
   "execution_count": 75,
   "id": "6b5baa0f",
   "metadata": {},
   "outputs": [],
   "source": [
    "from sklearn.ensemble import RandomForestRegressor"
   ]
  },
  {
   "cell_type": "code",
   "execution_count": 76,
   "id": "a2b2157f",
   "metadata": {},
   "outputs": [],
   "source": [
    "rf=RandomForestRegressor()"
   ]
  },
  {
   "cell_type": "code",
   "execution_count": 78,
   "id": "218c3fe5",
   "metadata": {},
   "outputs": [
    {
     "data": {
      "text/html": [
       "<style>#sk-container-id-3 {color: black;background-color: white;}#sk-container-id-3 pre{padding: 0;}#sk-container-id-3 div.sk-toggleable {background-color: white;}#sk-container-id-3 label.sk-toggleable__label {cursor: pointer;display: block;width: 100%;margin-bottom: 0;padding: 0.3em;box-sizing: border-box;text-align: center;}#sk-container-id-3 label.sk-toggleable__label-arrow:before {content: \"▸\";float: left;margin-right: 0.25em;color: #696969;}#sk-container-id-3 label.sk-toggleable__label-arrow:hover:before {color: black;}#sk-container-id-3 div.sk-estimator:hover label.sk-toggleable__label-arrow:before {color: black;}#sk-container-id-3 div.sk-toggleable__content {max-height: 0;max-width: 0;overflow: hidden;text-align: left;background-color: #f0f8ff;}#sk-container-id-3 div.sk-toggleable__content pre {margin: 0.2em;color: black;border-radius: 0.25em;background-color: #f0f8ff;}#sk-container-id-3 input.sk-toggleable__control:checked~div.sk-toggleable__content {max-height: 200px;max-width: 100%;overflow: auto;}#sk-container-id-3 input.sk-toggleable__control:checked~label.sk-toggleable__label-arrow:before {content: \"▾\";}#sk-container-id-3 div.sk-estimator input.sk-toggleable__control:checked~label.sk-toggleable__label {background-color: #d4ebff;}#sk-container-id-3 div.sk-label input.sk-toggleable__control:checked~label.sk-toggleable__label {background-color: #d4ebff;}#sk-container-id-3 input.sk-hidden--visually {border: 0;clip: rect(1px 1px 1px 1px);clip: rect(1px, 1px, 1px, 1px);height: 1px;margin: -1px;overflow: hidden;padding: 0;position: absolute;width: 1px;}#sk-container-id-3 div.sk-estimator {font-family: monospace;background-color: #f0f8ff;border: 1px dotted black;border-radius: 0.25em;box-sizing: border-box;margin-bottom: 0.5em;}#sk-container-id-3 div.sk-estimator:hover {background-color: #d4ebff;}#sk-container-id-3 div.sk-parallel-item::after {content: \"\";width: 100%;border-bottom: 1px solid gray;flex-grow: 1;}#sk-container-id-3 div.sk-label:hover label.sk-toggleable__label {background-color: #d4ebff;}#sk-container-id-3 div.sk-serial::before {content: \"\";position: absolute;border-left: 1px solid gray;box-sizing: border-box;top: 0;bottom: 0;left: 50%;z-index: 0;}#sk-container-id-3 div.sk-serial {display: flex;flex-direction: column;align-items: center;background-color: white;padding-right: 0.2em;padding-left: 0.2em;position: relative;}#sk-container-id-3 div.sk-item {position: relative;z-index: 1;}#sk-container-id-3 div.sk-parallel {display: flex;align-items: stretch;justify-content: center;background-color: white;position: relative;}#sk-container-id-3 div.sk-item::before, #sk-container-id-3 div.sk-parallel-item::before {content: \"\";position: absolute;border-left: 1px solid gray;box-sizing: border-box;top: 0;bottom: 0;left: 50%;z-index: -1;}#sk-container-id-3 div.sk-parallel-item {display: flex;flex-direction: column;z-index: 1;position: relative;background-color: white;}#sk-container-id-3 div.sk-parallel-item:first-child::after {align-self: flex-end;width: 50%;}#sk-container-id-3 div.sk-parallel-item:last-child::after {align-self: flex-start;width: 50%;}#sk-container-id-3 div.sk-parallel-item:only-child::after {width: 0;}#sk-container-id-3 div.sk-dashed-wrapped {border: 1px dashed gray;margin: 0 0.4em 0.5em 0.4em;box-sizing: border-box;padding-bottom: 0.4em;background-color: white;}#sk-container-id-3 div.sk-label label {font-family: monospace;font-weight: bold;display: inline-block;line-height: 1.2em;}#sk-container-id-3 div.sk-label-container {text-align: center;}#sk-container-id-3 div.sk-container {/* jupyter's `normalize.less` sets `[hidden] { display: none; }` but bootstrap.min.css set `[hidden] { display: none !important; }` so we also need the `!important` here to be able to override the default hidden behavior on the sphinx rendered scikit-learn.org. See: https://github.com/scikit-learn/scikit-learn/issues/21755 */display: inline-block !important;position: relative;}#sk-container-id-3 div.sk-text-repr-fallback {display: none;}</style><div id=\"sk-container-id-3\" class=\"sk-top-container\"><div class=\"sk-text-repr-fallback\"><pre>RandomForestRegressor()</pre><b>In a Jupyter environment, please rerun this cell to show the HTML representation or trust the notebook. <br />On GitHub, the HTML representation is unable to render, please try loading this page with nbviewer.org.</b></div><div class=\"sk-container\" hidden><div class=\"sk-item\"><div class=\"sk-estimator sk-toggleable\"><input class=\"sk-toggleable__control sk-hidden--visually\" id=\"sk-estimator-id-3\" type=\"checkbox\" checked><label for=\"sk-estimator-id-3\" class=\"sk-toggleable__label sk-toggleable__label-arrow\">RandomForestRegressor</label><div class=\"sk-toggleable__content\"><pre>RandomForestRegressor()</pre></div></div></div></div></div>"
      ],
      "text/plain": [
       "RandomForestRegressor()"
      ]
     },
     "execution_count": 78,
     "metadata": {},
     "output_type": "execute_result"
    }
   ],
   "source": [
    "rf.fit(X_train,y_train)"
   ]
  },
  {
   "cell_type": "code",
   "execution_count": 79,
   "id": "78f14f7d",
   "metadata": {},
   "outputs": [],
   "source": [
    "y_pred=rf.predict(X_test)"
   ]
  },
  {
   "cell_type": "code",
   "execution_count": 81,
   "id": "1c760897",
   "metadata": {},
   "outputs": [
    {
     "data": {
      "text/plain": [
       "<AxesSubplot:xlabel='Price', ylabel='Density'>"
      ]
     },
     "execution_count": 81,
     "metadata": {},
     "output_type": "execute_result"
    },
    {
     "data": {
      "image/png": "[encoded data removed]",
      "text/plain": [
       "<Figure size 432x288 with 1 Axes>"
      ]
     },
     "metadata": {},
     "output_type": "display_data"
    }
   ],
   "source": [
    "sns.distplot(y_test-y_pred)"
   ]
  },
  {
   "cell_type": "code",
   "execution_count": 82,
   "id": "3b30ff1d",
   "metadata": {},
   "outputs": [
    {
     "data": {
      "text/plain": [
       "0.016759764177364578"
      ]
     },
     "execution_count": 82,
     "metadata": {},
     "output_type": "execute_result"
    }
   ],
   "source": [
    "r2_score(y_test,y_pred)"
   ]
  },
  {
   "cell_type": "code",
   "execution_count": null,
   "id": "8ebd1dcc",
   "metadata": {},
   "outputs": [],
   "source": []
  }
 ],
 "metadata": {
  "kernelspec": {
   "display_name": "Python 3 (ipykernel)",
   "language": "python",
   "name": "python3"
  },
  "language_info": {
   "codemirror_mode": {
    "name": "ipython",
    "version": 3
   },
   "file_extension": ".py",
   "mimetype": "text/x-python",
   "name": "python",
   "nbconvert_exporter": "python",
   "pygments_lexer": "ipython3",
   "version": "3.9.7"
  }
 },
 "nbformat": 4,
 "nbformat_minor": 5
}
